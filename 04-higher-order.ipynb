{
 "metadata": {
  "language": "haskell",
  "name": "",
  "signature": "sha256:4d2a87e383804c94994ad4c64d694bf526752ac753b3a9a5c18acae5394fd21a"
 },
 "nbformat": 3,
 "nbformat_minor": 0,
 "worksheets": [
  {
   "cells": [
    {
     "cell_type": "code",
     "collapsed": false,
     "input": [
      "filter (> 100) [12, 234, 23]"
     ],
     "language": "python",
     "metadata": {},
     "outputs": [
      {
       "metadata": {},
       "output_type": "display_data",
       "text": [
        "[234]"
       ]
      }
     ],
     "prompt_number": 1
    },
    {
     "cell_type": "code",
     "collapsed": false,
     "input": [
      "sch\u00f6nfinkel :: ((a,b) -> c) -> a -> b -> c\n",
      "sch\u00f6nfinkel f x y = f (x,y)"
     ],
     "language": "python",
     "metadata": {},
     "outputs": [],
     "prompt_number": 2
    },
    {
     "cell_type": "code",
     "collapsed": false,
     "input": [
      "unsch\u00f6nfinkel :: (a -> b -> c) -> (a,b) -> c\n",
      "unsch\u00f6nfinkel f (x,y) = f x y"
     ],
     "language": "python",
     "metadata": {},
     "outputs": [],
     "prompt_number": 3
    },
    {
     "cell_type": "code",
     "collapsed": false,
     "input": [
      "unsch\u00f6nfinkel (+) (2,3)"
     ],
     "language": "python",
     "metadata": {},
     "outputs": [
      {
       "metadata": {},
       "output_type": "display_data",
       "text": [
        "5"
       ]
      }
     ],
     "prompt_number": 4
    },
    {
     "cell_type": "code",
     "collapsed": false,
     "input": [
      "sum' :: [Integer] -> Integer\n",
      "sum' []     = 0\n",
      "sum' (x:xs) = x + sum' xs"
     ],
     "language": "python",
     "metadata": {},
     "outputs": [],
     "prompt_number": 6
    },
    {
     "cell_type": "code",
     "collapsed": false,
     "input": [
      "product' :: [Integer] -> Integer\n",
      "product' [] = 1\n",
      "product' (x:xs) = x * product' xs"
     ],
     "language": "python",
     "metadata": {},
     "outputs": [],
     "prompt_number": 8
    },
    {
     "cell_type": "code",
     "collapsed": false,
     "input": [
      "length' :: [a] -> Int\n",
      "length' []     = 0\n",
      "length' (_:xs) = 1 + length' xs"
     ],
     "language": "python",
     "metadata": {},
     "outputs": [],
     "prompt_number": 9
    },
    {
     "cell_type": "code",
     "collapsed": false,
     "input": [
      ":t fold"
     ],
     "language": "python",
     "metadata": {},
     "outputs": [
      {
       "html": [
        "<span class='err-msg'>Not in scope: `fold'<br/>Perhaps you meant one of these: `foldr' (imported from Prelude), `foldl' (imported from Prelude)</span>"
       ],
       "metadata": {},
       "output_type": "display_data",
       "text": [
        "Not in scope: `fold'\n",
        "Perhaps you meant one of these: `foldr' (imported from Prelude), `foldl' (imported from Prelude)"
       ]
      }
     ],
     "prompt_number": 10
    },
    {
     "cell_type": "code",
     "collapsed": false,
     "input": [
      "import Data.List"
     ],
     "language": "python",
     "metadata": {},
     "outputs": [],
     "prompt_number": 11
    },
    {
     "cell_type": "code",
     "collapsed": false,
     "input": [
      ":t fold"
     ],
     "language": "python",
     "metadata": {},
     "outputs": [
      {
       "html": [
        "<span class='err-msg'>Not in scope: `fold'<br/>Perhaps you meant one of these: `foldr' (imported from Prelude), `foldl' (imported from Prelude)</span>"
       ],
       "metadata": {},
       "output_type": "display_data",
       "text": [
        "Not in scope: `fold'\n",
        "Perhaps you meant one of these: `foldr' (imported from Prelude), `foldl' (imported from Prelude)"
       ]
      }
     ],
     "prompt_number": 13
    },
    {
     "cell_type": "code",
     "collapsed": false,
     "input": [
      "fold :: b -> (a -> b -> b) -> [a] -> b\n",
      "fold z f [] = z\n",
      "fold z f (x:xs) = f x (fold z f xs)"
     ],
     "language": "python",
     "metadata": {},
     "outputs": [],
     "prompt_number": 14
    },
    {
     "cell_type": "code",
     "collapsed": false,
     "input": [
      "fold 0 (+) [1, 2, 3, 4]"
     ],
     "language": "python",
     "metadata": {},
     "outputs": [
      {
       "metadata": {},
       "output_type": "display_data",
       "text": [
        "10"
       ]
      }
     ],
     "prompt_number": 16
    },
    {
     "cell_type": "code",
     "collapsed": false,
     "input": [
      "fold 1 (*) [1, 2, 3, 4]"
     ],
     "language": "python",
     "metadata": {},
     "outputs": [
      {
       "metadata": {},
       "output_type": "display_data",
       "text": [
        "24"
       ]
      }
     ],
     "prompt_number": 17
    },
    {
     "cell_type": "code",
     "collapsed": false,
     "input": [
      "fold 0 (const (1+)) [1, 2, 3, 4]"
     ],
     "language": "python",
     "metadata": {},
     "outputs": [
      {
       "metadata": {},
       "output_type": "display_data",
       "text": [
        "4"
       ]
      }
     ],
     "prompt_number": 26
    },
    {
     "cell_type": "code",
     "collapsed": false,
     "input": [
      "const 1 12"
     ],
     "language": "python",
     "metadata": {},
     "outputs": [
      {
       "metadata": {},
       "output_type": "display_data",
       "text": [
        "1"
       ]
      }
     ],
     "prompt_number": 28
    },
    {
     "cell_type": "code",
     "collapsed": false,
     "input": [
      "fun1 :: [Integer] -> Integer\n",
      "fun1 [] = 1\n",
      "fun1 (x:xs)\n",
      "    | even x = (x - 2) * fun1 xs\n",
      "    | otherwise = fun1 xs"
     ],
     "language": "python",
     "metadata": {
      "hidden": false
     },
     "outputs": [],
     "prompt_number": 29
    },
    {
     "cell_type": "code",
     "collapsed": false,
     "input": [
      "fun1' :: [Integer] -> Integer\n",
      "fun1' = product . map (\\ x -> x-2) . filter even"
     ],
     "language": "python",
     "metadata": {
      "hidden": false
     },
     "outputs": [],
     "prompt_number": 50
    },
    {
     "cell_type": "code",
     "collapsed": false,
     "input": [
      "fun1 [1, 4, 6, 7, 8]\n",
      "fun1' [1, 4, 6, 7, 8]"
     ],
     "language": "python",
     "metadata": {
      "hidden": false
     },
     "outputs": [
      {
       "metadata": {},
       "output_type": "display_data",
       "text": [
        "48"
       ]
      },
      {
       "metadata": {},
       "output_type": "display_data",
       "text": [
        "48"
       ]
      }
     ],
     "prompt_number": 53
    },
    {
     "cell_type": "code",
     "collapsed": false,
     "input": [
      "fun2 :: Integer -> Integer\n",
      "fun2 1 = 0\n",
      "fun2 n  | even n = n + fun2 (n `div` 2)\n",
      "        | otherwise = fun2 (3 * n + 1)"
     ],
     "language": "python",
     "metadata": {
      "hidden": false
     },
     "outputs": [],
     "prompt_number": 55
    },
    {
     "cell_type": "code",
     "collapsed": false,
     "input": [
      "fun2' :: Integer -> Integer\n",
      "fun2' = sum . takeWhile (>0) . filter even . iterate collatz\n",
      "    where\n",
      "        collatz 1 = 0\n",
      "        collatz x\n",
      "            | even x = x `div` 2\n",
      "            | otherwise = 3 * x + 1"
     ],
     "language": "python",
     "metadata": {
      "hidden": false
     },
     "outputs": [],
     "prompt_number": 92
    },
    {
     "cell_type": "code",
     "collapsed": false,
     "input": [
      "fun2 30"
     ],
     "language": "python",
     "metadata": {
      "hidden": false
     },
     "outputs": [
      {
       "metadata": {},
       "output_type": "display_data",
       "text": [
        "592"
       ]
      }
     ],
     "prompt_number": 97
    },
    {
     "cell_type": "code",
     "collapsed": false,
     "input": [
      "fun2' 30"
     ],
     "language": "python",
     "metadata": {
      "hidden": false
     },
     "outputs": [
      {
       "metadata": {},
       "output_type": "display_data",
       "text": [
        "592"
       ]
      }
     ],
     "prompt_number": 98
    },
    {
     "cell_type": "code",
     "collapsed": false,
     "input": [
      "data Tree a = Leaf\n",
      "            | Node Integer (Tree a) a (Tree a)\n",
      "            deriving (Show, Eq)"
     ],
     "language": "python",
     "metadata": {
      "hidden": false
     },
     "outputs": [],
     "prompt_number": 96
    },
    {
     "cell_type": "code",
     "collapsed": false,
     "input": [
      "foldTree :: [a] -> Tree a\n",
      "foldTree x = foldr treeInsert Leaf x"
     ],
     "language": "python",
     "metadata": {
      "hidden": false
     },
     "outputs": [],
     "prompt_number": 129
    },
    {
     "cell_type": "code",
     "collapsed": false,
     "input": [
      "treeInsert :: a -> Tree a -> Tree a\n",
      "treeInsert x Leaf = Node 0 Leaf x Leaf\n",
      "treeInsert x (Node h lt v rt)\n",
      "    | getHeight lt == getHeight rt = (Node (h+1) lt v (treeInsert x rt))\n",
      "    | getHeight lt > getHeight rt = (Node h lt v (treeInsert x rt))\n",
      "    | otherwise = (Node h (treeInsert x lt) v rt)"
     ],
     "language": "python",
     "metadata": {
      "hidden": false
     },
     "outputs": [],
     "prompt_number": 128
    },
    {
     "cell_type": "code",
     "collapsed": false,
     "input": [
      "getHeight :: Tree a-> Integer\n",
      "getHeight Leaf = 0\n",
      "getHeight (Node h _ _ _) = h"
     ],
     "language": "python",
     "metadata": {
      "hidden": false
     },
     "outputs": [],
     "prompt_number": 133
    },
    {
     "cell_type": "code",
     "collapsed": false,
     "input": [
      "isBalanced :: Tree a -> Bool\n",
      "isBalanced Leaf = True\n",
      "isBalanced (Node h lt v rt) = (abs (getHeight lt - getHeight rt) <= 1) && isBalanced lt && isBalanced rt"
     ],
     "language": "python",
     "metadata": {
      "hidden": false
     },
     "outputs": [],
     "prompt_number": 151
    },
    {
     "cell_type": "code",
     "collapsed": false,
     "input": [
      "isBalanced $ foldTree \"ABCDEFGHIJKCSDFA\""
     ],
     "language": "python",
     "metadata": {
      "hidden": false
     },
     "outputs": [
      {
       "metadata": {},
       "output_type": "display_data",
       "text": [
        "True"
       ]
      }
     ],
     "prompt_number": 152
    },
    {
     "cell_type": "code",
     "collapsed": false,
     "input": [
      "getHeight (foldTree \"ABCDEFGHIJ\")"
     ],
     "language": "python",
     "metadata": {
      "hidden": false
     },
     "outputs": [
      {
       "metadata": {},
       "output_type": "display_data",
       "text": [
        "6"
       ]
      }
     ],
     "prompt_number": 156
    },
    {
     "cell_type": "code",
     "collapsed": false,
     "input": [
      "xor :: [Bool] -> Bool\n",
      "xor = odd . foldr (\\ x s -> if x then s+1 else s) 0"
     ],
     "language": "python",
     "metadata": {
      "hidden": false
     },
     "outputs": [],
     "prompt_number": 167
    },
    {
     "cell_type": "code",
     "collapsed": false,
     "input": [
      "xor [False, True, True, True]"
     ],
     "language": "python",
     "metadata": {
      "hidden": false
     },
     "outputs": [
      {
       "metadata": {},
       "output_type": "display_data",
       "text": [
        "True"
       ]
      }
     ],
     "prompt_number": 170
    },
    {
     "cell_type": "code",
     "collapsed": false,
     "input": [
      "map' :: (a -> b) -> [a] -> [b]\n",
      "map' f = foldr (\\ x s -> f x:s) []"
     ],
     "language": "python",
     "metadata": {
      "hidden": false
     },
     "outputs": [],
     "prompt_number": 173
    },
    {
     "cell_type": "code",
     "collapsed": false,
     "input": [
      "map (+1) [1, 2, 3, 4]\n",
      "map' (+1) [1, 2, 3, 4]"
     ],
     "language": "python",
     "metadata": {
      "hidden": false
     },
     "outputs": [
      {
       "metadata": {},
       "output_type": "display_data",
       "text": [
        "[2,3,4,5]"
       ]
      },
      {
       "metadata": {},
       "output_type": "display_data",
       "text": [
        "[2,3,4,5]"
       ]
      }
     ],
     "prompt_number": 176
    },
    {
     "cell_type": "code",
     "collapsed": false,
     "input": [
      "myFoldl :: (a -> b -> a) -> a -> [b] -> a\n",
      "myFoldl f base xs = foldr (flip f) base xs"
     ],
     "language": "python",
     "metadata": {
      "hidden": false
     },
     "outputs": [],
     "prompt_number": 183
    },
    {
     "cell_type": "code",
     "collapsed": false,
     "input": [
      "foldl (+) 0 [1,3,5,6]\n",
      "myFoldl (+) 0 [1,3,5,6]"
     ],
     "language": "python",
     "metadata": {
      "hidden": false
     },
     "outputs": [
      {
       "html": [
        " <div class=\"suggestion-name\" style=\"clear:both;\">Use sum</div>  <div class=\"suggestion-row\" style=\"float: left;\"> <div class=\"suggestion-error\">Found:</div>  <div class=\"highlight-code\" id=\"haskell\">foldl (+) 0</div> </div>  <div class=\"suggestion-row\" style=\"float: left;\"> <div class=\"suggestion-error\">Why Not:</div>  <div class=\"highlight-code\" id=\"haskell\">sum</div> </div> "
       ],
       "metadata": {},
       "output_type": "display_data",
       "text": [
        "Line 1: Use sum\n",
        "Found:\n",
        "foldl (+) 0\n",
        "Why not:\n",
        "sum"
       ]
      },
      {
       "metadata": {},
       "output_type": "display_data",
       "text": [
        "15"
       ]
      },
      {
       "metadata": {},
       "output_type": "display_data",
       "text": [
        "15"
       ]
      }
     ],
     "prompt_number": 189
    },
    {
     "cell_type": "code",
     "collapsed": false,
     "input": [
      "sieveSundaram :: Integer -> [Integer]\n",
      "sieveSundaram n = map ((1+) . (2*)) (filter (not . (`elem` sundarams n)) [1..n])\n",
      "    where sundarams n = [i+j+2*i*j|j<-[1..(n`div`3 + 1)], i<-[1..j]]"
     ],
     "language": "python",
     "metadata": {
      "hidden": false
     },
     "outputs": [],
     "prompt_number": 220
    },
    {
     "cell_type": "code",
     "collapsed": false,
     "input": [
      "sieveSundaram 20"
     ],
     "language": "python",
     "metadata": {
      "hidden": false
     },
     "outputs": [
      {
       "metadata": {},
       "output_type": "display_data",
       "text": [
        "[3,5,7,11,13,17,19,23,29,31,37,41]"
       ]
      }
     ],
     "prompt_number": 222
    },
    {
     "cell_type": "code",
     "collapsed": false,
     "input": [],
     "language": "python",
     "metadata": {
      "hidden": false
     },
     "outputs": []
    }
   ],
   "metadata": {}
  }
 ]
}