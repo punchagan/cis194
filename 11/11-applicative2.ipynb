{
 "metadata": {
  "language": "haskell",
  "name": "",
  "signature": "sha256:33d4397d08a881d6881594a6132dfc5386c93eba67ea0fd4f288240d996af714"
 },
 "nbformat": 3,
 "nbformat_minor": 0,
 "worksheets": [
  {
   "cells": [
    {
     "cell_type": "code",
     "collapsed": false,
     "input": [
      "import Control.Applicative"
     ],
     "language": "python",
     "metadata": {},
     "outputs": [],
     "prompt_number": 2
    },
    {
     "cell_type": "code",
     "collapsed": false,
     "input": [
      "(.+) = liftA2 (+)    -- addition lifted to some Applicative context\n",
      "(.*) = liftA2 (*)    -- same for multiplication"
     ],
     "language": "python",
     "metadata": {},
     "outputs": [],
     "prompt_number": 3
    },
    {
     "cell_type": "code",
     "collapsed": false,
     "input": [
      "-- nondeterministic arithmetic\n",
      "n = ([4,5] .* pure 2) .+ [6,1] -- (either 4 or 5) times 2, plus either 6 or 1"
     ],
     "language": "python",
     "metadata": {},
     "outputs": [],
     "prompt_number": 4
    },
    {
     "cell_type": "code",
     "collapsed": false,
     "input": [
      "n"
     ],
     "language": "python",
     "metadata": {},
     "outputs": [
      {
       "metadata": {},
       "output_type": "display_data",
       "text": [
        "[14,9,16,11]"
       ]
      }
     ],
     "prompt_number": 5
    },
    {
     "cell_type": "code",
     "collapsed": false,
     "input": [
      "-- and some possibly-failing arithmetic too, just for fun\n",
      "m1 = (Just 3 .+ Just 5) .* Just 8\n",
      "m2 = (Just 3 .+ Nothing) .* Just 8"
     ],
     "language": "python",
     "metadata": {},
     "outputs": [],
     "prompt_number": 6
    },
    {
     "cell_type": "code",
     "collapsed": false,
     "input": [
      "m1"
     ],
     "language": "python",
     "metadata": {},
     "outputs": [
      {
       "metadata": {},
       "output_type": "display_data",
       "text": [
        "Just 64"
       ]
      }
     ],
     "prompt_number": 7
    },
    {
     "cell_type": "code",
     "collapsed": false,
     "input": [
      "m2"
     ],
     "language": "python",
     "metadata": {},
     "outputs": [
      {
       "metadata": {},
       "output_type": "display_data",
       "text": [
        "Nothing"
       ]
      }
     ],
     "prompt_number": 8
    },
    {
     "cell_type": "code",
     "collapsed": false,
     "input": [
      "type Name = String\n",
      "data Employee = Employee { name :: Name, phone :: String } deriving (Show)"
     ],
     "language": "python",
     "metadata": {},
     "outputs": [],
     "prompt_number": 9
    },
    {
     "cell_type": "code",
     "collapsed": false,
     "input": [
      "data BigRecord = BR { getName         :: Name\n",
      "                    , getSSN          :: String\n",
      "                    , getSalary       :: Integer\n",
      "                    , getPhone        :: String\n",
      "                    , getLicensePlate :: String\n",
      "                    , getNumSickDays  :: Int\n",
      "                    }\n",
      "\n",
      "r = BR \"Brent\" \"XXX-XX-XXX4\" 600000000 \"555-1234\" \"JGX-55T3\" 2\n",
      "\n",
      "getEmp :: BigRecord -> Employee\n",
      "getEmp = Employee <$> getName <*> getPhone\n",
      "\n",
      "ex01 = getEmp r"
     ],
     "language": "python",
     "metadata": {},
     "outputs": [],
     "prompt_number": 10
    },
    {
     "cell_type": "code",
     "collapsed": false,
     "input": [
      "ex01"
     ],
     "language": "python",
     "metadata": {},
     "outputs": [
      {
       "metadata": {},
       "output_type": "display_data",
       "text": [
        "Employee {name = \"Brent\", phone = \"555-1234\"}"
       ]
      }
     ],
     "prompt_number": 11
    },
    {
     "cell_type": "code",
     "collapsed": false,
     "input": [
      "pure (+) <*> ZipList [1, 2, 3]"
     ],
     "language": "python",
     "metadata": {},
     "outputs": [
      {
       "html": [
        "<div class='collapse-group'><span class='btn' href='#' id='unshowable'>Unshowable:<span class='show-type'>ZipList (a0 -> a0)</span></span><span class='err-msg collapse'>No instance for (Show (ZipList (a0 -> a0))) arising from a use of `print'<br/>Possible fix: add an instance declaration for (Show (ZipList (a0 -> a0)))<br/>In a stmt of an interactive GHCi command: print it</span></div><script>$('#unshowable').on('click', function(e) {\n",
        "    e.preventDefault();\n",
        "    var $this = $(this);\n",
        "    var $collapse = $this.closest('.collapse-group').find('.err-msg');\n",
        "    $collapse.collapse('toggle');\n",
        "});\n",
        "</script>"
       ],
       "metadata": {},
       "output_type": "display_data",
       "text": [
        "No instance for (Show (ZipList (a0 -> a0))) arising from a use of `print'\n",
        "Possible fix: add an instance declaration for (Show (ZipList (a0 -> a0)))\n",
        "In a stmt of an interactive GHCi command: print it"
       ]
      }
     ],
     "prompt_number": 12
    },
    {
     "cell_type": "code",
     "collapsed": false,
     "input": [
      "getZipList $ pure (+2) <*> ZipList [1, 2, 3]"
     ],
     "language": "python",
     "metadata": {},
     "outputs": [
      {
       "metadata": {},
       "output_type": "display_data",
       "text": [
        "[3,4,5]"
       ]
      }
     ],
     "prompt_number": 13
    },
    {
     "cell_type": "code",
     "collapsed": false,
     "input": [
      "pair (Just 2) (Just 4)"
     ],
     "language": "python",
     "metadata": {},
     "outputs": [
      {
       "html": [
        "<span class='err-msg'>Not in scope: `pair'</span>"
       ],
       "metadata": {},
       "output_type": "display_data",
       "text": [
        "Not in scope: `pair'"
       ]
      }
     ],
     "prompt_number": 14
    },
    {
     "cell_type": "code",
     "collapsed": false,
     "input": [
      "pair = liftA2 (,)"
     ],
     "language": "python",
     "metadata": {},
     "outputs": [],
     "prompt_number": 15
    },
    {
     "cell_type": "code",
     "collapsed": false,
     "input": [
      "pair [1, 2, 3] [2, 3, 4, 5, 6]"
     ],
     "language": "python",
     "metadata": {},
     "outputs": [
      {
       "metadata": {},
       "output_type": "display_data",
       "text": [
        "[(1,2),(1,3),(1,4),(1,5),(1,6),(2,2),(2,3),(2,4),(2,5),(2,6),(3,2),(3,3),(3,4),(3,5),(3,6)]"
       ]
      }
     ],
     "prompt_number": 16
    },
    {
     "cell_type": "code",
     "collapsed": false,
     "input": [
      "(*>)       :: Applicative f => f a -> f b -> f b\n",
      "(*>) = liftA2 (\\ a b -> b)\n",
      "(*>) (Just 2) (Just 5)\n",
      "(*>) [1, 2, 3] [15, 6, 7]\n",
      "getZipList $ (*>) (ZipList [1, 2, 3]) (ZipList [5, 6, 7])"
     ],
     "language": "python",
     "metadata": {
      "hidden": false
     },
     "outputs": [
      {
       "metadata": {},
       "output_type": "display_data",
       "text": [
        "Just 5"
       ]
      },
      {
       "metadata": {},
       "output_type": "display_data",
       "text": [
        "[15,6,7,15,6,7,15,6,7]"
       ]
      },
      {
       "metadata": {},
       "output_type": "display_data",
       "text": [
        "[5,6,7]"
       ]
      }
     ],
     "prompt_number": 17
    },
    {
     "cell_type": "code",
     "collapsed": false,
     "input": [
      "mapA :: Applicative f => (a -> f b) -> [a] -> f [b]\n",
      "mapA g [] = pure []\n",
      "mapA g (x:xs) = (:) <$> g x <*> (mapA g xs)"
     ],
     "language": "python",
     "metadata": {
      "hidden": false
     },
     "outputs": [],
     "prompt_number": 34
    },
    {
     "cell_type": "code",
     "collapsed": false,
     "input": [
      "mapA Just [1, 2]"
     ],
     "language": "python",
     "metadata": {
      "hidden": false
     },
     "outputs": [
      {
       "metadata": {},
       "output_type": "display_data",
       "text": [
        "Just [1,2]"
       ]
      }
     ],
     "prompt_number": 37
    },
    {
     "cell_type": "code",
     "collapsed": false,
     "input": [
      "sequenceA  :: Applicative f => [f a] -> f [a]\n",
      "sequenceA [] = pure []\n",
      "sequenceA (x:xs) = (:) <$> x <*> sequenceA xs "
     ],
     "language": "python",
     "metadata": {
      "hidden": false
     },
     "outputs": [],
     "prompt_number": 21
    },
    {
     "cell_type": "code",
     "collapsed": false,
     "input": [
      "replicateA :: Applicative f => Int -> f a -> f [a]\n",
      "replicateA 0 _ = pure []\n",
      "replicateA n x = (:) <$> x <*> replicateA (n-1) x"
     ],
     "language": "python",
     "metadata": {
      "hidden": false
     },
     "outputs": [],
     "prompt_number": 22
    },
    {
     "cell_type": "code",
     "collapsed": false,
     "input": [
      "replicateA 2 [2, 3]"
     ],
     "language": "python",
     "metadata": {
      "hidden": false
     },
     "outputs": [
      {
       "metadata": {},
       "output_type": "display_data",
       "text": [
        "[[2,2],[2,3],[3,2],[3,3]]"
       ]
      }
     ],
     "prompt_number": 25
    },
    {
     "cell_type": "code",
     "collapsed": false,
     "input": [],
     "language": "python",
     "metadata": {},
     "outputs": [],
     "prompt_number": 24
    }
   ],
   "metadata": {}
  }
 ]
}