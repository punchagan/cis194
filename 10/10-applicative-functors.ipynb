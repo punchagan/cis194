{
 "metadata": {
  "language": "haskell",
  "name": "",
  "signature": "sha256:ee846ef9acd1b2b0d861c715c8acc5a0ef2805cc5a59eeab196f9e487f37d60f"
 },
 "nbformat": 3,
 "nbformat_minor": 0,
 "worksheets": [
  {
   "cells": [
    {
     "cell_type": "code",
     "collapsed": false,
     "input": [
      "type Name = String\n",
      "\n",
      "data Employee = Employee { name    :: Name\n",
      "                         , phone   :: String }\n",
      "                deriving Show"
     ],
     "language": "python",
     "metadata": {},
     "outputs": [],
     "prompt_number": 1
    },
    {
     "cell_type": "code",
     "collapsed": false,
     "input": [
      ":t Employee"
     ],
     "language": "python",
     "metadata": {},
     "outputs": [
      {
       "html": [
        "<span class='get-type'>Employee :: Name -> String -> Employee</span>"
       ],
       "metadata": {},
       "output_type": "display_data",
       "text": [
        "Employee :: Name -> String -> Employee"
       ]
      }
     ],
     "prompt_number": 2
    },
    {
     "cell_type": "code",
     "collapsed": false,
     "input": [
      ":t Just Employee"
     ],
     "language": "python",
     "metadata": {},
     "outputs": [
      {
       "html": [
        "<span class='get-type'>Just Employee :: Maybe (Name -> String -> Employee)</span>"
       ],
       "metadata": {},
       "output_type": "display_data",
       "text": [
        "Just Employee :: Maybe (Name -> String -> Employee)"
       ]
      }
     ],
     "prompt_number": 3
    },
    {
     "cell_type": "code",
     "collapsed": false,
     "input": [
      "maybeEmployee :: Maybe Name -> Maybe String -> Maybe Employee\n",
      "maybeEmployee (Just name) (Just phone) = Just (Employee {name=name, phone=phone})\n",
      "maybeEmployee _ _ = Nothing"
     ],
     "language": "python",
     "metadata": {
      "hidden": false
     },
     "outputs": [],
     "prompt_number": 4
    },
    {
     "cell_type": "code",
     "collapsed": false,
     "input": [
      "main = do line <- fmap reverse getLine  \n",
      "          putStrLn $ \"You said \" ++ line ++ \" backwards!\"  \n",
      "          putStrLn $ \"Yes, you really said \" ++ line ++ \" backwards!\" "
     ],
     "language": "python",
     "metadata": {
      "hidden": false
     },
     "outputs": [],
     "prompt_number": 5
    },
    {
     "cell_type": "code",
     "collapsed": false,
     "input": [
      "main"
     ],
     "language": "python",
     "metadata": {
      "hidden": false
     },
     "outputs": [
      {
       "metadata": {},
       "output_type": "display_data",
       "text": [
        "You said oof backwards!\n",
        "Yes, you really said oof backwards!"
       ]
      }
     ],
     "prompt_number": 6
    },
    {
     "cell_type": "code",
     "collapsed": false,
     "input": [
      ":t fmap (*2)"
     ],
     "language": "python",
     "metadata": {
      "hidden": false
     },
     "outputs": [
      {
       "html": [
        "<span class='get-type'>fmap (*2) :: forall (f :: * -> *) b. (Functor f, Num b) => f b -> f b</span>"
       ],
       "metadata": {},
       "output_type": "display_data",
       "text": [
        "fmap (*2) :: forall (f :: * -> *) b. (Functor f, Num b) => f b -> f b"
       ]
      }
     ],
     "prompt_number": 7
    },
    {
     "cell_type": "code",
     "collapsed": false,
     "input": [
      "fmap (*2) (Just 2.3)"
     ],
     "language": "python",
     "metadata": {
      "hidden": false
     },
     "outputs": [
      {
       "metadata": {},
       "output_type": "display_data",
       "text": [
        "Just 4.6"
       ]
      }
     ],
     "prompt_number": 8
    },
    {
     "cell_type": "code",
     "collapsed": false,
     "input": [
      "data CMaybe a = CNothing | CJust Int a deriving (Show, Eq)  \n"
     ],
     "language": "python",
     "metadata": {
      "hidden": false
     },
     "outputs": [],
     "prompt_number": 9
    },
    {
     "cell_type": "code",
     "collapsed": false,
     "input": [
      "instance Functor CMaybe where  \n",
      "    fmap f CNothing = CNothing  \n",
      "    fmap f (CJust counter x) = CJust (counter+1) (f x) "
     ],
     "language": "python",
     "metadata": {
      "hidden": false
     },
     "outputs": [],
     "prompt_number": 10
    },
    {
     "cell_type": "code",
     "collapsed": false,
     "input": [
      "fmap (++\"ha\") (CJust 0 \"ho\") "
     ],
     "language": "python",
     "metadata": {
      "hidden": false
     },
     "outputs": [
      {
       "metadata": {},
       "output_type": "display_data",
       "text": [
        "CJust 1 \"hoha\""
       ]
      }
     ],
     "prompt_number": 11
    },
    {
     "cell_type": "code",
     "collapsed": false,
     "input": [
      "fmap id (CJust 0 \"haha\") == (CJust 0 \"haha\")"
     ],
     "language": "python",
     "metadata": {
      "hidden": false
     },
     "outputs": [
      {
       "html": [
        " <div class=\"suggestion-name\" style=\"clear:both;\">Functor law</div>  <div class=\"suggestion-row\" style=\"float: left;\"> <div class=\"suggestion-error\">Found:</div>  <div class=\"highlight-code\" id=\"haskell\">fmap id</div> </div>  <div class=\"suggestion-row\" style=\"float: left;\"> <div class=\"suggestion-error\">Why Not:</div>  <div class=\"highlight-code\" id=\"haskell\">id</div> </div>  <div class=\"suggestion-name\" style=\"clear:both;\">Redundant bracket</div>  <div class=\"suggestion-row\" style=\"float: left;\"> <div class=\"suggestion-warning\">Found:</div>  <div class=\"highlight-code\" id=\"haskell\">fmap id (CJust 0 \"haha\") == (CJust 0 \"haha\")</div> </div>  <div class=\"suggestion-row\" style=\"float: left;\"> <div class=\"suggestion-warning\">Why Not:</div>  <div class=\"highlight-code\" id=\"haskell\">fmap id (CJust 0 \"haha\") == CJust 0 \"haha\"</div> </div> "
       ],
       "metadata": {},
       "output_type": "display_data",
       "text": [
        "Line 1: Functor law\n",
        "Found:\n",
        "fmap id\n",
        "Why not:\n",
        "idLine 1: Redundant bracket\n",
        "Found:\n",
        "fmap id (CJust 0 \"haha\") == (CJust 0 \"haha\")\n",
        "Why not:\n",
        "fmap id (CJust 0 \"haha\") == CJust 0 \"haha\""
       ]
      },
      {
       "metadata": {},
       "output_type": "display_data",
       "text": [
        "False"
       ]
      }
     ],
     "prompt_number": 15
    },
    {
     "cell_type": "code",
     "collapsed": false,
     "input": [
      ":t fmap (*) (Just 4)\n",
      "fmap (\\ x -> x 2) (fmap (*) (Just 4))"
     ],
     "language": "python",
     "metadata": {
      "hidden": false
     },
     "outputs": [
      {
       "html": [
        " <div class=\"suggestion-name\" style=\"clear:both;\">Functor law</div>  <div class=\"suggestion-row\" style=\"float: left;\"> <div class=\"suggestion-error\">Found:</div>  <div class=\"highlight-code\" id=\"haskell\">fmap (\\ x -> x 2) (fmap (*) (Just 4))</div> </div>  <div class=\"suggestion-row\" style=\"float: left;\"> <div class=\"suggestion-error\">Why Not:</div>  <div class=\"highlight-code\" id=\"haskell\">fmap ((\\ x -> x 2) . (*)) (Just 4)</div> </div>  <div class=\"suggestion-name\" style=\"clear:both;\">Use .</div>  <div class=\"suggestion-row\" style=\"float: left;\"> <div class=\"suggestion-error\">Found:</div>  <div class=\"highlight-code\" id=\"haskell\">fmap (\\ x -> x 2) (fmap (*) (Just 4))</div> </div>  <div class=\"suggestion-row\" style=\"float: left;\"> <div class=\"suggestion-error\">Why Not:</div>  <div class=\"highlight-code\" id=\"haskell\">fmap ((\\ x -> x 2) . (*)) (Just 4)</div> </div> "
       ],
       "metadata": {},
       "output_type": "display_data",
       "text": [
        "Line 1: Functor law\n",
        "Found:\n",
        "fmap (\\ x -> x 2) (fmap (*) (Just 4))\n",
        "Why not:\n",
        "fmap ((\\ x -> x 2) . (*)) (Just 4)Line 1: Use .\n",
        "Found:\n",
        "fmap (\\ x -> x 2) (fmap (*) (Just 4))\n",
        "Why not:\n",
        "fmap ((\\ x -> x 2) . (*)) (Just 4)"
       ]
      },
      {
       "html": [
        "<span class='get-type'>fmap (*) (Just 4) :: forall a. Num a => Maybe (a -> a)</span>"
       ],
       "metadata": {},
       "output_type": "display_data",
       "text": [
        "fmap (*) (Just 4) :: forall a. Num a => Maybe (a -> a)"
       ]
      },
      {
       "metadata": {},
       "output_type": "display_data",
       "text": [
        "Just 8"
       ]
      }
     ],
     "prompt_number": 37
    },
    {
     "cell_type": "code",
     "collapsed": false,
     "input": [
      "map (\\ x -> x 'L') (fmap compare \"A LIST OF CHARS\") "
     ],
     "language": "python",
     "metadata": {
      "hidden": false
     },
     "outputs": [
      {
       "metadata": {},
       "output_type": "display_data",
       "text": [
        "[LT,LT,EQ,LT,GT,GT,LT,GT,LT,LT,LT,LT,LT,GT,GT]"
       ]
      }
     ],
     "prompt_number": 38
    },
    {
     "cell_type": "code",
     "collapsed": false,
     "input": [
      "fmap (\\ x -> fmap x (Just 2)) (fmap (*) (Just 3))"
     ],
     "language": "python",
     "metadata": {
      "hidden": false
     },
     "outputs": [
      {
       "html": [
        " <div class=\"suggestion-name\" style=\"clear:both;\">Functor law</div>  <div class=\"suggestion-row\" style=\"float: left;\"> <div class=\"suggestion-error\">Found:</div>  <div class=\"highlight-code\" id=\"haskell\">fmap (\\ x -> fmap x (Just 2)) (fmap (*) (Just 3))</div> </div>  <div class=\"suggestion-row\" style=\"float: left;\"> <div class=\"suggestion-error\">Why Not:</div>  <div class=\"highlight-code\" id=\"haskell\">fmap ((\\ x -> fmap x (Just 2)) . (*)) (Just 3)</div> </div>  <div class=\"suggestion-name\" style=\"clear:both;\">Use .</div>  <div class=\"suggestion-row\" style=\"float: left;\"> <div class=\"suggestion-error\">Found:</div>  <div class=\"highlight-code\" id=\"haskell\">fmap (\\ x -> fmap x (Just 2)) (fmap (*) (Just 3))</div> </div>  <div class=\"suggestion-row\" style=\"float: left;\"> <div class=\"suggestion-error\">Why Not:</div>  <div class=\"highlight-code\" id=\"haskell\">fmap ((\\ x -> fmap x (Just 2)) . (*)) (Just 3)</div> </div> "
       ],
       "metadata": {},
       "output_type": "display_data",
       "text": [
        "Line 1: Functor law\n",
        "Found:\n",
        "fmap (\\ x -> fmap x (Just 2)) (fmap (*) (Just 3))\n",
        "Why not:\n",
        "fmap ((\\ x -> fmap x (Just 2)) . (*)) (Just 3)Line 1: Use .\n",
        "Found:\n",
        "fmap (\\ x -> fmap x (Just 2)) (fmap (*) (Just 3))\n",
        "Why not:\n",
        "fmap ((\\ x -> fmap x (Just 2)) . (*)) (Just 3)"
       ]
      },
      {
       "metadata": {},
       "output_type": "display_data",
       "text": [
        "Just (Just 6)"
       ]
      }
     ],
     "prompt_number": 47
    },
    {
     "cell_type": "code",
     "collapsed": false,
     "input": [
      "import Control.Applicative"
     ],
     "language": "python",
     "metadata": {
      "hidden": false
     },
     "outputs": [],
     "prompt_number": 49
    },
    {
     "cell_type": "code",
     "collapsed": false,
     "input": [
      "[(+1), (*2)] <*> [1, 2, 3]"
     ],
     "language": "python",
     "metadata": {
      "hidden": false
     },
     "outputs": [
      {
       "metadata": {},
       "output_type": "display_data",
       "text": [
        "[2,3,4,2,4,6]"
       ]
      }
     ],
     "prompt_number": 52
    },
    {
     "cell_type": "code",
     "collapsed": false,
     "input": [
      ":t pure [1, 2, 3]"
     ],
     "language": "python",
     "metadata": {
      "hidden": false
     },
     "outputs": [
      {
       "html": [
        "<span class='get-type'>pure [1, 2, 3] :: forall (f :: * -> *) t. (Num t, Applicative f) => f [t]</span>"
       ],
       "metadata": {},
       "output_type": "display_data",
       "text": [
        "pure [1, 2, 3] :: forall (f :: * -> *) t. (Num t, Applicative f) => f [t]"
       ]
      }
     ],
     "prompt_number": 56
    },
    {
     "cell_type": "code",
     "collapsed": false,
     "input": [
      "[(*0),(+100),(^2)] <*> [1,2,3]"
     ],
     "language": "python",
     "metadata": {
      "hidden": false
     },
     "outputs": [
      {
       "metadata": {},
       "output_type": "display_data",
       "text": [
        "[0,0,0,101,102,103,1,4,9]"
       ]
      }
     ],
     "prompt_number": 57
    },
    {
     "cell_type": "code",
     "collapsed": false,
     "input": [
      "[(+),(*)] <*> [1,2] <*> [3,4]"
     ],
     "language": "python",
     "metadata": {
      "hidden": false
     },
     "outputs": [
      {
       "metadata": {},
       "output_type": "display_data",
       "text": [
        "[4,5,5,6,3,4,6,8]"
       ]
      }
     ],
     "prompt_number": 58
    },
    {
     "cell_type": "code",
     "collapsed": false,
     "input": [],
     "language": "python",
     "metadata": {
      "hidden": false
     },
     "outputs": []
    }
   ],
   "metadata": {}
  }
 ]
}