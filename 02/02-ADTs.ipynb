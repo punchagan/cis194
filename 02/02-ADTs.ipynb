{
 "metadata": {
  "language": "haskell",
  "name": "",
  "signature": "sha256:e0c66d335ad0902ae873a735ecbcdf4e7828822fad9019f183105241ba5eac7c"
 },
 "nbformat": 3,
 "nbformat_minor": 0,
 "worksheets": [
  {
   "cells": [
    {
     "cell_type": "code",
     "collapsed": false,
     "input": [
      "data Thing = Shoe \n",
      "           | Ship \n",
      "           | SealingWax \n",
      "           | Cabbage \n",
      "           | King\n",
      "  deriving Show"
     ],
     "language": "python",
     "metadata": {},
     "outputs": [],
     "prompt_number": 1
    },
    {
     "cell_type": "code",
     "collapsed": false,
     "input": [
      "Shoe"
     ],
     "language": "python",
     "metadata": {},
     "outputs": [
      {
       "metadata": {},
       "output_type": "display_data",
       "text": [
        "Shoe"
       ]
      }
     ],
     "prompt_number": 2
    },
    {
     "cell_type": "code",
     "collapsed": false,
     "input": [
      ":t Shoe"
     ],
     "language": "python",
     "metadata": {},
     "outputs": [
      {
       "html": [
        "<span class='get-type'>Shoe :: Thing</span>"
       ],
       "metadata": {},
       "output_type": "display_data",
       "text": [
        "Shoe :: Thing"
       ]
      }
     ],
     "prompt_number": 3
    },
    {
     "cell_type": "code",
     "collapsed": false,
     "input": [
      "data FailableDouble = Failure\n",
      "                    | OK Double\n",
      "  deriving Show"
     ],
     "language": "python",
     "metadata": {},
     "outputs": [],
     "prompt_number": 4
    },
    {
     "cell_type": "code",
     "collapsed": false,
     "input": [
      "OK 3.4"
     ],
     "language": "python",
     "metadata": {},
     "outputs": [
      {
       "metadata": {},
       "output_type": "display_data",
       "text": [
        "OK 3.4"
       ]
      }
     ],
     "prompt_number": 5
    },
    {
     "cell_type": "code",
     "collapsed": false,
     "input": [
      "data Person = Person String Int Thing\n",
      "  deriving Show\n",
      "\n",
      "brent :: Person\n",
      "brent = Person \"Brent\" 31 SealingWax\n",
      "\n",
      "stan :: Person\n",
      "stan  = Person \"Stan\" 94 Cabbage\n",
      "\n",
      "getAge :: Person -> Int\n",
      "getAge (Person _ a _) = a"
     ],
     "language": "python",
     "metadata": {},
     "outputs": [],
     "prompt_number": 6
    },
    {
     "cell_type": "code",
     "collapsed": false,
     "input": [
      "getAge brent"
     ],
     "language": "python",
     "metadata": {},
     "outputs": [
      {
       "metadata": {},
       "output_type": "display_data",
       "text": [
        "31"
       ]
      }
     ],
     "prompt_number": 7
    },
    {
     "cell_type": "code",
     "collapsed": false,
     "input": [
      "getAge stan"
     ],
     "language": "python",
     "metadata": {},
     "outputs": [
      {
       "metadata": {},
       "output_type": "display_data",
       "text": [
        "94"
       ]
      }
     ],
     "prompt_number": 8
    },
    {
     "cell_type": "markdown",
     "metadata": {
      "hidden": false
     },
     "source": [
      "**Exercises**"
     ]
    },
    {
     "cell_type": "code",
     "collapsed": false,
     "input": [
      "data MessageType = Info\n",
      "    | Warning\n",
      "    | Error Int\n",
      "    deriving (Show, Eq)"
     ],
     "language": "python",
     "metadata": {
      "hidden": false
     },
     "outputs": [],
     "prompt_number": 9
    },
    {
     "cell_type": "code",
     "collapsed": false,
     "input": [
      "type TimeStamp = Int"
     ],
     "language": "python",
     "metadata": {
      "hidden": false
     },
     "outputs": [],
     "prompt_number": 10
    },
    {
     "cell_type": "code",
     "collapsed": false,
     "input": [
      "data LogMessage = LogMessage MessageType TimeStamp String\n",
      "    | Unknown String\n",
      "    deriving (Show, Eq)"
     ],
     "language": "python",
     "metadata": {
      "hidden": false
     },
     "outputs": [],
     "prompt_number": 11
    },
    {
     "cell_type": "code",
     "collapsed": false,
     "input": [
      ":load Log"
     ],
     "language": "python",
     "metadata": {
      "hidden": false
     },
     "outputs": [],
     "prompt_number": 12
    },
    {
     "cell_type": "code",
     "collapsed": false,
     "input": [
      ":t LogMessage"
     ],
     "language": "python",
     "metadata": {
      "hidden": false
     },
     "outputs": [
      {
       "html": [
        "<span class='get-type'>LogMessage :: MessageType -> TimeStamp -> String -> LogMessage</span>"
       ],
       "metadata": {},
       "output_type": "display_data",
       "text": [
        "LogMessage :: MessageType -> TimeStamp -> String -> LogMessage"
       ]
      }
     ],
     "prompt_number": 13
    },
    {
     "cell_type": "code",
     "collapsed": false,
     "input": [
      "parseMessage :: String -> LogMessage\n",
      "parseMessage l@(x:xs)\n",
      "    | x == 'I' = LogMessage Info (firstWordAsInt xs) (allButFirstWord xs)\n",
      "    | x == 'W' = LogMessage Warning (firstWordAsInt xs) (allButFirstWord xs)\n",
      "    | x == 'E' = LogMessage (Error (firstWordAsInt xs)) (firstWordAsInt (allButFirstWord xs)) (allButFirstWord (allButFirstWord xs)) \n",
      "    | otherwise = Unknown l\n",
      "    where allButFirstWord m = unwords (tail (words m))\n",
      "          firstWordAsInt m = read (head (words m)) :: Int"
     ],
     "language": "python",
     "metadata": {
      "hidden": false
     },
     "outputs": [],
     "prompt_number": 14
    },
    {
     "cell_type": "code",
     "collapsed": false,
     "input": [
      "parseMessage \"E 2 562 help help\" == LogMessage (Error 2) 562 \"help help\"\n",
      "parseMessage \"I 29 la la la\" == LogMessage Info 29 \"la la la\"\n",
      "parseMessage \"This is not in the right format\" == Unknown \"This is not in the right format\""
     ],
     "language": "python",
     "metadata": {
      "hidden": false
     },
     "outputs": [
      {
       "metadata": {},
       "output_type": "display_data",
       "text": [
        "True"
       ]
      },
      {
       "metadata": {},
       "output_type": "display_data",
       "text": [
        "True"
       ]
      },
      {
       "metadata": {},
       "output_type": "display_data",
       "text": [
        "True"
       ]
      }
     ],
     "prompt_number": 15
    },
    {
     "cell_type": "code",
     "collapsed": false,
     "input": [
      "parse :: String -> [LogMessage]\n",
      "parse x = map parseMessage (lines x)"
     ],
     "language": "python",
     "metadata": {
      "hidden": false
     },
     "outputs": [],
     "prompt_number": 16
    },
    {
     "cell_type": "code",
     "collapsed": false,
     "input": [
      "testParse parse 10 \"error.log\""
     ],
     "language": "python",
     "metadata": {
      "hidden": false
     },
     "outputs": [
      {
       "metadata": {},
       "output_type": "display_data",
       "text": [
        "[LogMessage Info 5053 \"pci_id: con ing!\",LogMessage Info 4681 \"ehci 0xf43d000:15: regista14: [0xbffff 0xfed nosabled 00-02] Zonseres: brips byted nored)\",LogMessage Warning 3654 \"e8] PGTT ASF! 00f00000003.2: 0x000 - 0000: 00009dbfffec00000: Pround/f1743colled\",LogMessage Info 4076 \"verse.'\",LogMessage Info 4764 \"He trusts to you to set them free,\",LogMessage Info 858 \"your pocket?' he went on, turning to Alice.\",LogMessage Info 898 \"would be offended again.\",LogMessage Info 3753 \"pci 0x18fff steresocared, overne: 0000 (le wailan0: ressio0/derveld fory: alinpu-all)\",LogMessage Info 790 \"those long words, and, what's more, I don't believe you do either!' And\",LogMessage Info 3899 \"hastily.\"]"
       ]
      }
     ],
     "prompt_number": 17
    },
    {
     "cell_type": "code",
     "collapsed": false,
     "input": [
      "data MessageTree = Leaf\n",
      "                 | Node MessageTree LogMessage MessageTree\n",
      "                 deriving (Show)"
     ],
     "language": "python",
     "metadata": {
      "hidden": false
     },
     "outputs": [],
     "prompt_number": 18
    },
    {
     "cell_type": "code",
     "collapsed": false,
     "input": [
      "getTimestamp :: LogMessage -> TimeStamp\n",
      "getTimestamp (LogMessage _ t _) = t \n",
      "\n",
      "msg = LogMessage Info 5053 \"pci_id: con ing!\"\n",
      "getTimestamp msg"
     ],
     "language": "python",
     "metadata": {
      "hidden": false
     },
     "outputs": [
      {
       "metadata": {},
       "output_type": "display_data",
       "text": [
        "5053"
       ]
      }
     ],
     "prompt_number": 32
    },
    {
     "cell_type": "code",
     "collapsed": false,
     "input": [
      "getMessage :: LogMessage -> String\n",
      "getMessage (LogMessage _ _ m) = m"
     ],
     "language": "python",
     "metadata": {
      "hidden": false
     },
     "outputs": [],
     "prompt_number": 33
    },
    {
     "cell_type": "code",
     "collapsed": false,
     "input": [
      "insert :: LogMessage -> MessageTree -> MessageTree\n",
      "insert x (Node lt y rt)\n",
      "    | getTimestamp x >= getTimestamp y = Node lt y (insert x rt)\n",
      "    | otherwise = Node (insert x lt) y rt\n",
      "insert x Leaf = Node Leaf x Leaf"
     ],
     "language": "python",
     "metadata": {
      "hidden": false
     },
     "outputs": [],
     "prompt_number": 25
    },
    {
     "cell_type": "code",
     "collapsed": false,
     "input": [
      "insert msg (Node Leaf (LogMessage Info 5052 \"pci_id: con ing!\") Leaf)"
     ],
     "language": "python",
     "metadata": {
      "hidden": false
     },
     "outputs": [
      {
       "metadata": {},
       "output_type": "display_data",
       "text": [
        "Node Leaf (LogMessage Info 5052 \"pci_id: con ing!\") (Node Leaf (LogMessage Info 5053 \"pci_id: con ing!\") Leaf)"
       ]
      }
     ],
     "prompt_number": 27
    },
    {
     "cell_type": "code",
     "collapsed": false,
     "input": [
      "build :: [LogMessage] -> MessageTree\n",
      "build (x:xs) = insert x (build xs)\n",
      "build [] = Leaf"
     ],
     "language": "python",
     "metadata": {
      "hidden": false
     },
     "outputs": [],
     "prompt_number": 28
    },
    {
     "cell_type": "code",
     "collapsed": false,
     "input": [
      "inOrder :: MessageTree -> [LogMessage]\n",
      "inOrder Leaf = []\n",
      "inOrder (Node lt m rt) = (inOrder lt) ++ [m] ++ (inOrder rt)"
     ],
     "language": "python",
     "metadata": {
      "hidden": false
     },
     "outputs": [],
     "prompt_number": 44
    },
    {
     "cell_type": "code",
     "collapsed": false,
     "input": [
      "isRelevant (LogMessage (Error priority) _ _) = priority > 50\n",
      "isRelevant _ = False"
     ],
     "language": "python",
     "metadata": {
      "hidden": false
     },
     "outputs": [],
     "prompt_number": 48
    },
    {
     "cell_type": "code",
     "collapsed": false,
     "input": [
      "-- whatWentWrong :: [LogMessage] -> [String]\n",
      "whatWentWrong = map getMessage . filter isRelevant . inOrder . build"
     ],
     "language": "python",
     "metadata": {
      "hidden": false
     },
     "outputs": [],
     "prompt_number": 49
    },
    {
     "cell_type": "code",
     "collapsed": false,
     "input": [
      "testWhatWentWrong parse whatWentWrong \"sample.log\""
     ],
     "language": "python",
     "metadata": {
      "hidden": false
     },
     "outputs": [
      {
       "metadata": {},
       "output_type": "display_data",
       "text": [
        "[\"Way too many pickles\",\"Bad pickle-flange interaction detected\",\"Flange failed!\"]"
       ]
      }
     ],
     "prompt_number": 50
    }
   ],
   "metadata": {}
  }
 ]
}