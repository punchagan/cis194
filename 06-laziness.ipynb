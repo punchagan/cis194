{
 "metadata": {
  "language": "haskell",
  "name": "",
  "signature": "sha256:3fa7e19a7651dd6583ae685fb53113386e6815f124bba15f078920cc68d35443"
 },
 "nbformat": 3,
 "nbformat_minor": 0,
 "worksheets": [
  {
   "cells": [
    {
     "cell_type": "code",
     "collapsed": false,
     "input": [
      "fib :: Integer -> Integer\n",
      "fib 0 = 0\n",
      "fib 1 = 1\n",
      "fib x = fib (x-1) + fib (x-2)"
     ],
     "language": "python",
     "metadata": {},
     "outputs": [],
     "prompt_number": 1
    },
    {
     "cell_type": "code",
     "collapsed": false,
     "input": [
      "fibs1 = map fib [0..]"
     ],
     "language": "python",
     "metadata": {},
     "outputs": [],
     "prompt_number": 2
    },
    {
     "cell_type": "code",
     "collapsed": false,
     "input": [
      ":t fibs1"
     ],
     "language": "python",
     "metadata": {},
     "outputs": [
      {
       "html": [
        "<span class='get-type'>fibs1 :: [Integer]</span>"
       ],
       "metadata": {},
       "output_type": "display_data",
       "text": [
        "fibs1 :: [Integer]"
       ]
      }
     ],
     "prompt_number": 3
    },
    {
     "cell_type": "code",
     "collapsed": false,
     "input": [
      "fibs :: Integer -> [Integer]\n",
      "fibs 0 = [0]\n",
      "fibs 1 = [0, 1]\n",
      "fibs n = x ++ [y + z] \n",
      "    where x = fibs (n-1)\n",
      "          y = last x\n",
      "          z = last (tail x)"
     ],
     "language": "python",
     "metadata": {},
     "outputs": [],
     "prompt_number": 4
    },
    {
     "cell_type": "code",
     "collapsed": false,
     "input": [
      "fibs2 = [0, 1] ++ [(x + y)|n<-[2..], let x=fibs2!!(n-2), let y=fibs2!!(n-1)]"
     ],
     "language": "python",
     "metadata": {},
     "outputs": [
      {
       "html": [
        " <div class=\"suggestion-name\" style=\"clear:both;\">Redundant bracket</div>  <div class=\"suggestion-row\" style=\"float: left;\"> <div class=\"suggestion-warning\">Found:</div>  <div class=\"highlight-code\" id=\"haskell\">[(x + y) | n <- [2 ..], let x = fibs2 !! (n - 2),\n",
        " let y = fibs2 !! (n - 1)]</div> </div>  <div class=\"suggestion-row\" style=\"float: left;\"> <div class=\"suggestion-warning\">Why Not:</div>  <div class=\"highlight-code\" id=\"haskell\">[x + y | n <- [2 ..], let x = fibs2 !! (n - 2),\n",
        " let y = fibs2 !! (n - 1)]</div> </div> "
       ],
       "metadata": {},
       "output_type": "display_data",
       "text": [
        "Line 1: Redundant bracket\n",
        "Found:\n",
        "[(x + y) | n <- [2 ..], let x = fibs2 !! (n - 2),\n",
        " let y = fibs2 !! (n - 1)]\n",
        "Why not:\n",
        "[x + y | n <- [2 ..], let x = fibs2 !! (n - 2),\n",
        " let y = fibs2 !! (n - 1)]"
       ]
      }
     ],
     "prompt_number": 5
    },
    {
     "cell_type": "code",
     "collapsed": false,
     "input": [
      "take 20 fibs2\n",
      "take 20 fibs1"
     ],
     "language": "python",
     "metadata": {},
     "outputs": [
      {
       "metadata": {},
       "output_type": "display_data",
       "text": [
        "[0,1,1,2,3,5,8,13,21,34,55,89,144,233,377,610,987,1597,2584,4181]"
       ]
      },
      {
       "metadata": {},
       "output_type": "display_data",
       "text": [
        "[0,1,1,2,3,5,8,13,21,34,55,89,144,233,377,610,987,1597,2584,4181]"
       ]
      }
     ],
     "prompt_number": 6
    },
    {
     "cell_type": "code",
     "collapsed": false,
     "input": [
      "data Stream a = Stream a (Stream a)"
     ],
     "language": "python",
     "metadata": {},
     "outputs": [],
     "prompt_number": 7
    },
    {
     "cell_type": "code",
     "collapsed": false,
     "input": [
      "streamToList :: Stream a -> [a]\n",
      "streamToList (Stream a x) = a:streamToList x"
     ],
     "language": "python",
     "metadata": {},
     "outputs": [],
     "prompt_number": 8
    },
    {
     "cell_type": "code",
     "collapsed": false,
     "input": [
      "instance Show a => Show (Stream a) where\n",
      "    show = (++ \"...\") . show . take 20 . streamToList"
     ],
     "language": "python",
     "metadata": {},
     "outputs": [],
     "prompt_number": 9
    },
    {
     "cell_type": "code",
     "collapsed": false,
     "input": [
      "streamRepeat :: a -> Stream a\n",
      "streamRepeat x = Stream x (streamRepeat x)"
     ],
     "language": "python",
     "metadata": {},
     "outputs": [],
     "prompt_number": 10
    },
    {
     "cell_type": "code",
     "collapsed": false,
     "input": [
      "streamMap :: (a->b) -> Stream a -> Stream b\n",
      "streamMap f (Stream x xs) = Stream (f x) (streamMap f xs)"
     ],
     "language": "python",
     "metadata": {},
     "outputs": [],
     "prompt_number": 11
    },
    {
     "cell_type": "code",
     "collapsed": false,
     "input": [
      "streamRepeat 5\n",
      "streamMap (+1) (streamRepeat 5)"
     ],
     "language": "python",
     "metadata": {},
     "outputs": [
      {
       "metadata": {},
       "output_type": "display_data",
       "text": [
        "[5,5,5,5,5,5,5,5,5,5,5,5,5,5,5,5,5,5,5,5]..."
       ]
      },
      {
       "metadata": {},
       "output_type": "display_data",
       "text": [
        "[6,6,6,6,6,6,6,6,6,6,6,6,6,6,6,6,6,6,6,6]..."
       ]
      }
     ],
     "prompt_number": 12
    },
    {
     "cell_type": "code",
     "collapsed": false,
     "input": [
      "streamFromSeed :: (a -> a) -> a -> Stream a\n",
      "streamFromSeed f seed = Stream seed (streamFromSeed f (f seed))"
     ],
     "language": "python",
     "metadata": {},
     "outputs": [],
     "prompt_number": 13
    },
    {
     "cell_type": "code",
     "collapsed": false,
     "input": [
      "streamFromSeed (+1) 5"
     ],
     "language": "python",
     "metadata": {},
     "outputs": [
      {
       "metadata": {},
       "output_type": "display_data",
       "text": [
        "[5,6,7,8,9,10,11,12,13,14,15,16,17,18,19,20,21,22,23,24]..."
       ]
      }
     ],
     "prompt_number": 14
    },
    {
     "cell_type": "code",
     "collapsed": false,
     "input": [
      "nats :: Stream Integer\n",
      "nats = streamFromSeed (+1) 0\n",
      "\n",
      "nats"
     ],
     "language": "python",
     "metadata": {},
     "outputs": [
      {
       "metadata": {},
       "output_type": "display_data",
       "text": [
        "[0,1,2,3,4,5,6,7,8,9,10,11,12,13,14,15,16,17,18,19]..."
       ]
      }
     ],
     "prompt_number": 15
    },
    {
     "cell_type": "code",
     "collapsed": false,
     "input": [
      "ruler :: Stream Integer\n",
      "ruler = streamMap largestPower2Factor "
     ],
     "language": "python",
     "metadata": {},
     "outputs": [
      {
       "html": [
        "<span class='err-msg'>Not in scope: `largestPower2Factor'</span>"
       ],
       "metadata": {},
       "output_type": "display_data",
       "text": [
        "Not in scope: `largestPower2Factor'"
       ]
      }
     ],
     "prompt_number": 16
    },
    {
     "cell_type": "code",
     "collapsed": false,
     "input": [
      "import Data.List (genericLength)\n",
      "logInt :: Integer -> Integer -> Integer\n",
      "logInt base num = genericLength (takeWhile (>0) (map (div num . (base ^)) [1..]))"
     ],
     "language": "python",
     "metadata": {},
     "outputs": [],
     "prompt_number": 17
    },
    {
     "cell_type": "code",
     "collapsed": false,
     "input": [
      "-- We can get away with defining this function only for whole numbers, but I want to use `nats` in ruler\n",
      "largestPower2Factor :: Integer -> Integer\n",
      "largestPower2Factor n \n",
      "    | n <= 0 = 0\n",
      "    | otherwise = genericLength (takeWhile (==0) (map (mod n . (2 ^)) [1..]))"
     ],
     "language": "python",
     "metadata": {},
     "outputs": [],
     "prompt_number": 18
    },
    {
     "cell_type": "code",
     "collapsed": false,
     "input": [
      "take 20 (map largestPower2Factor [0..])"
     ],
     "language": "python",
     "metadata": {},
     "outputs": [
      {
       "metadata": {},
       "output_type": "display_data",
       "text": [
        "[0,0,1,0,2,0,1,0,3,0,1,0,2,0,1,0,4,0,1,0]"
       ]
      }
     ],
     "prompt_number": 19
    },
    {
     "cell_type": "code",
     "collapsed": false,
     "input": [
      "ruler :: Stream Integer\n",
      "ruler = streamMap largestPower2Factor nats"
     ],
     "language": "python",
     "metadata": {},
     "outputs": [],
     "prompt_number": 20
    },
    {
     "cell_type": "code",
     "collapsed": false,
     "input": [
      "ruler"
     ],
     "language": "python",
     "metadata": {},
     "outputs": [
      {
       "metadata": {},
       "output_type": "display_data",
       "text": [
        "[0,0,1,0,2,0,1,0,3,0,1,0,2,0,1,0,4,0,1,0]..."
       ]
      }
     ],
     "prompt_number": 21
    },
    {
     "cell_type": "code",
     "collapsed": false,
     "input": [
      "data Matrix = Matrix ((Integer, Integer), (Integer, Integer)) deriving (Show)"
     ],
     "language": "python",
     "metadata": {},
     "outputs": [],
     "prompt_number": 22
    },
    {
     "cell_type": "code",
     "collapsed": false,
     "input": [
      "Matrix ((1, 2), (3, 4)) "
     ],
     "language": "python",
     "metadata": {},
     "outputs": [
      {
       "metadata": {},
       "output_type": "display_data",
       "text": [
        "Matrix ((1,2),(3,4))"
       ]
      }
     ],
     "prompt_number": 23
    },
    {
     "cell_type": "code",
     "collapsed": false,
     "input": [
      "instance Num Matrix where\n",
      "    Matrix ((a,b),(c,d)) * Matrix ((p,q),(r,s)) = Matrix((a*p+b*r, a*q + b*s),(c*p+d*r, c*q + d*s))"
     ],
     "language": "python",
     "metadata": {},
     "outputs": [],
     "prompt_number": 24
    },
    {
     "cell_type": "code",
     "collapsed": false,
     "input": [
      "Matrix ((1, 2), (3, 4))  * Matrix ((1, 2), (3, 4)) "
     ],
     "language": "python",
     "metadata": {},
     "outputs": [
      {
       "metadata": {},
       "output_type": "display_data",
       "text": [
        "Matrix ((7,10),(15,22))"
       ]
      }
     ],
     "prompt_number": 25
    },
    {
     "cell_type": "code",
     "collapsed": false,
     "input": [
      "f = Matrix ((1, 1), (1, 0))"
     ],
     "language": "python",
     "metadata": {},
     "outputs": [],
     "prompt_number": 26
    },
    {
     "cell_type": "code",
     "collapsed": false,
     "input": [
      "f^1000"
     ],
     "language": "python",
     "metadata": {},
     "outputs": [
      {
       "metadata": {},
       "output_type": "display_data",
       "text": [
        "Matrix ((70330367711422815821835254877183549770181269836358732742604905087154537118196933579742249494562611733487750449241765991088186363265450223647106012053374121273867339111198139373125598767690091902245245323403501,43466557686937456435688527675040625802564660517371780402481729089536555417949051890403879840079255169295922593080322634775209689623239873322471161642996440906533187938298969649928516003704476137795166849228875),(43466557686937456435688527675040625802564660517371780402481729089536555417949051890403879840079255169295922593080322634775209689623239873322471161642996440906533187938298969649928516003704476137795166849228875,26863810024485359386146727202142923967616609318986952340123175997617981700247881689338369654483356564191827856161443356312976673642210350324634850410377680367334151172899169723197082763985615764450078474174626))"
       ]
      }
     ],
     "prompt_number": 27
    },
    {
     "cell_type": "code",
     "collapsed": false,
     "input": [
      "veryBigList = [1..1000000]"
     ],
     "language": "python",
     "metadata": {
      "hidden": false
     },
     "outputs": [],
     "prompt_number": 46
    },
    {
     "cell_type": "code",
     "collapsed": false,
     "input": [
      "foldr2 f z []     = z\n",
      "foldr2 f z (x:xs) = x `f` foldr f z xs\n",
      "\n",
      "sum1 = foldr2 (+) 0\n",
      "try1 = sum1 veryBigList"
     ],
     "language": "python",
     "metadata": {
      "hidden": false
     },
     "outputs": [],
     "prompt_number": 47
    },
    {
     "cell_type": "code",
     "collapsed": false,
     "input": [
      "try1"
     ],
     "language": "python",
     "metadata": {
      "hidden": false
     },
     "outputs": [
      {
       "html": [
        "<span class='err-msg'>stack overflow</span>"
       ],
       "metadata": {},
       "output_type": "display_data",
       "text": [
        "stack overflow"
       ]
      }
     ],
     "prompt_number": 48
    },
    {
     "cell_type": "code",
     "collapsed": false,
     "input": [],
     "language": "python",
     "metadata": {
      "hidden": false
     },
     "outputs": []
    }
   ],
   "metadata": {}
  }
 ]
}