{
 "metadata": {
  "language": "haskell",
  "name": "",
  "signature": "sha256:ba3e7c59429e46bb0323b496f69c0643cfcaccbe40a9ad3c654ed73e485b4485"
 },
 "nbformat": 3,
 "nbformat_minor": 0,
 "worksheets": [
  {
   "cells": [
    {
     "cell_type": "code",
     "collapsed": false,
     "input": [
      "import Data.Monoid"
     ],
     "language": "python",
     "metadata": {},
     "outputs": [],
     "prompt_number": 1
    },
    {
     "cell_type": "code",
     "collapsed": false,
     "input": [
      "newtype Or a = Or a \n",
      "    deriving (Eq, Show)"
     ],
     "language": "python",
     "metadata": {},
     "outputs": [],
     "prompt_number": 2
    },
    {
     "cell_type": "code",
     "collapsed": false,
     "input": [
      "data JoinList m a = Empty\n",
      "                  | Single m a\n",
      "                  | Append m (JoinList m a) (JoinList m a)\n",
      "                  deriving (Eq, Show)"
     ],
     "language": "python",
     "metadata": {
      "hidden": false
     },
     "outputs": [],
     "prompt_number": 12
    },
    {
     "cell_type": "code",
     "collapsed": false,
     "input": [
      "tag :: Monoid m => JoinList m a -> m\n",
      "tag Empty = mempty\n",
      "tag (Single x _) = x\n",
      "tag (Append x _ _) = x"
     ],
     "language": "python",
     "metadata": {
      "hidden": false
     },
     "outputs": [
      {
       "html": [
        "<span class='err-msg'>Not in scope: type constructor or class `JoinList'<br/><br/><br/>Not in scope: data constructor `Empty'<br/><br/><br/>Not in scope: data constructor `Single'<br/><br/><br/>Not in scope: data constructor `Append'</span>"
       ],
       "metadata": {},
       "output_type": "display_data",
       "text": [
        "Not in scope: type constructor or class `JoinList'\n",
        "\n",
        "\n",
        "Not in scope: data constructor `Empty'\n",
        "\n",
        "\n",
        "Not in scope: data constructor `Single'\n",
        "\n",
        "\n",
        "Not in scope: data constructor `Append'"
       ]
      }
     ],
     "prompt_number": 18
    },
    {
     "cell_type": "code",
     "collapsed": false,
     "input": [
      "(+++) :: Monoid m => JoinList m a -> JoinList m a -> JoinList m a\n",
      "(+++) x y = Append (mconcat [tag x, tag y]) x y"
     ],
     "language": "python",
     "metadata": {},
     "outputs": [],
     "prompt_number": 14
    },
    {
     "cell_type": "code",
     "collapsed": false,
     "input": [
      ":load Sized\n",
      "import Sized"
     ],
     "language": "python",
     "metadata": {
      "hidden": false
     },
     "outputs": [],
     "prompt_number": 19
    },
    {
     "cell_type": "code",
     "collapsed": false,
     "input": [
      "indexJ :: (Sized b, Monoid b) => Int -> JoinList b a -> Maybe a\n",
      "indexJ _ Empty = Nothing\n",
      "indexJ 0 (Single _ a) = Just a"
     ],
     "language": "python",
     "metadata": {
      "hidden": false
     },
     "outputs": [
      {
       "html": [
        "<span class='err-msg'>Not in scope: type constructor or class `JoinList'<br/><br/><br/>Not in scope: data constructor `Empty'<br/><br/><br/>Not in scope: data constructor `Single'</span>"
       ],
       "metadata": {},
       "output_type": "display_data",
       "text": [
        "Not in scope: type constructor or class `JoinList'\n",
        "\n",
        "\n",
        "Not in scope: data constructor `Empty'\n",
        "\n",
        "\n",
        "Not in scope: data constructor `Single'"
       ]
      }
     ],
     "prompt_number": 20
    },
    {
     "cell_type": "code",
     "collapsed": false,
     "input": [
      "indexJ 5 Empty"
     ],
     "language": "python",
     "metadata": {
      "hidden": false
     },
     "outputs": [
      {
       "html": [
        "<span class='err-msg'>Not in scope: `indexJ'<br/><br/><br/>Not in scope: data constructor `Empty'</span>"
       ],
       "metadata": {},
       "output_type": "display_data",
       "text": [
        "Not in scope: `indexJ'\n",
        "\n",
        "\n",
        "Not in scope: data constructor `Empty'"
       ]
      }
     ],
     "prompt_number": 9
    },
    {
     "cell_type": "code",
     "collapsed": false,
     "input": [],
     "language": "python",
     "metadata": {
      "hidden": false
     },
     "outputs": [],
     "prompt_number": 10
    }
   ],
   "metadata": {}
  }
 ]
}