{
 "metadata": {
  "language": "haskell",
  "name": "",
  "signature": "sha256:4ed8a11f38c8d0c2b0f573c4808d1f9905b5201de2266187cc36d8f3618d9210"
 },
 "nbformat": 3,
 "nbformat_minor": 0,
 "worksheets": [
  {
   "cells": [
    {
     "cell_type": "code",
     "collapsed": false,
     "input": [
      "f a1 a2 = case (typeOf a1) of\n",
      "            Int  -> a1 + a2\n",
      "            Bool -> a1 && a2\n",
      "            _    -> a1"
     ],
     "language": "python",
     "metadata": {},
     "outputs": [
      {
       "html": [
        " <div class=\"suggestion-name\" style=\"clear:both;\">Redundant bracket</div>  <div class=\"suggestion-row\" style=\"float: left;\"> <div class=\"suggestion-warning\">Found:</div>  <div class=\"highlight-code\" id=\"haskell\">case (typeOf a1) of\n",
        "    Int -> a1 + a2\n",
        "    Bool -> a1 && a2\n",
        "    _ -> a1</div> </div>  <div class=\"suggestion-row\" style=\"float: left;\"> <div class=\"suggestion-warning\">Why Not:</div>  <div class=\"highlight-code\" id=\"haskell\">case typeOf a1 of\n",
        "    Int -> a1 + a2\n",
        "    Bool -> a1 && a2\n",
        "    _ -> a1</div> </div> "
       ],
       "metadata": {},
       "output_type": "display_data",
       "text": [
        "Line 1: Redundant bracket\n",
        "Found:\n",
        "case (typeOf a1) of\n",
        "    Int -> a1 + a2\n",
        "    Bool -> a1 && a2\n",
        "    _ -> a1\n",
        "Why not:\n",
        "case typeOf a1 of\n",
        "    Int -> a1 + a2\n",
        "    Bool -> a1 && a2\n",
        "    _ -> a1"
       ]
      },
      {
       "html": [
        "<span class='err-msg'>Not in scope: `typeOf'<br/><br/><br/>Not in scope: data constructor `Int'<br/><br/><br/>Not in scope: data constructor `Bool'</span>"
       ],
       "metadata": {},
       "output_type": "display_data",
       "text": [
        "Not in scope: `typeOf'\n",
        "\n",
        "\n",
        "Not in scope: data constructor `Int'\n",
        "\n",
        "\n",
        "Not in scope: data constructor `Bool'"
       ]
      }
     ],
     "prompt_number": 1
    },
    {
     "cell_type": "code",
     "collapsed": false,
     "input": [
      "f :: a -> b\n",
      "f x = 1"
     ],
     "language": "python",
     "metadata": {},
     "outputs": [
      {
       "html": [
        "<span class='err-msg'>No instance for (Num b) arising from the literal `1'<br/>Possible fix: add (Num b) to the context of the type signature for f :: a -> b<br/>In the expression: 1<br/>In an equation for `f': f x = 1</span>"
       ],
       "metadata": {},
       "output_type": "display_data",
       "text": [
        "No instance for (Num b) arising from the literal `1'\n",
        "Possible fix: add (Num b) to the context of the type signature for f :: a -> b\n",
        "In the expression: 1\n",
        "In an equation for `f': f x = 1"
       ]
      }
     ],
     "prompt_number": 2
    },
    {
     "cell_type": "code",
     "collapsed": false,
     "input": [
      "data Foo = F Int | G Char\n",
      "\n",
      "instance Eq Foo where\n",
      "  (F i1) == (F i2) = i1 == i2\n",
      "  (G c1) == (G c2) = c1 == c2\n",
      "  _ == _ = False\n",
      "\n",
      "  foo1 /= foo2 = not (foo1 == foo2)"
     ],
     "language": "python",
     "metadata": {},
     "outputs": [],
     "prompt_number": 3
    },
    {
     "cell_type": "code",
     "collapsed": false,
     "input": [
      "foo1 = F 3\n",
      "foo2 = G 'c'\n",
      "foo1 == foo2"
     ],
     "language": "python",
     "metadata": {},
     "outputs": [
      {
       "metadata": {},
       "output_type": "display_data",
       "text": [
        "False"
       ]
      }
     ],
     "prompt_number": 4
    },
    {
     "cell_type": "code",
     "collapsed": false,
     "input": [
      "data Tree a = Leaf\n",
      "            | Node Integer (Tree a) a (Tree a)\n",
      "            deriving (Show, Eq)"
     ],
     "language": "python",
     "metadata": {},
     "outputs": [],
     "prompt_number": 5
    },
    {
     "cell_type": "code",
     "collapsed": false,
     "input": [
      ":load Parser"
     ],
     "language": "python",
     "metadata": {},
     "outputs": [],
     "prompt_number": 6
    },
    {
     "cell_type": "code",
     "collapsed": false,
     "input": [
      "data ExprT = Lit Integer\n",
      "           | Add ExprT ExprT\n",
      "           | Mul ExprT ExprT\n",
      "  deriving (Show, Eq)"
     ],
     "language": "python",
     "metadata": {},
     "outputs": [],
     "prompt_number": 7
    },
    {
     "cell_type": "code",
     "collapsed": false,
     "input": [
      "eval :: ExprT -> Integer\n",
      "eval (Lit x) = x\n",
      "eval (Add x y) = (eval x) + (eval y)\n",
      "eval (Mul x y) = (eval x) * (eval y)"
     ],
     "language": "python",
     "metadata": {},
     "outputs": [],
     "prompt_number": 8
    },
    {
     "cell_type": "code",
     "collapsed": false,
     "input": [
      "eval (Mul (Add (Lit 2) (Lit 3)) (Lit 4)) == 20"
     ],
     "language": "python",
     "metadata": {},
     "outputs": [
      {
       "metadata": {},
       "output_type": "display_data",
       "text": [
        "True"
       ]
      }
     ],
     "prompt_number": 9
    },
    {
     "cell_type": "code",
     "collapsed": false,
     "input": [
      "evalStr :: String -> Maybe Integer\n",
      "evalStr x = \n",
      "    case expression of\n",
      "        Nothing -> Nothing\n",
      "        Just y -> Just (eval y)\n",
      "    where expression = parseExp Lit Add Mul x"
     ],
     "language": "python",
     "metadata": {},
     "outputs": [],
     "prompt_number": 10
    },
    {
     "cell_type": "code",
     "collapsed": false,
     "input": [
      "evalStr \"(2+3)*4\""
     ],
     "language": "python",
     "metadata": {},
     "outputs": [
      {
       "metadata": {},
       "output_type": "display_data",
       "text": [
        "Just 20"
       ]
      }
     ],
     "prompt_number": 11
    },
    {
     "cell_type": "code",
     "collapsed": false,
     "input": [
      "class Expr a where\n",
      "    lit :: Integer -> a\n",
      "    add :: a -> a -> a\n",
      "    mul :: a -> a -> a"
     ],
     "language": "python",
     "metadata": {},
     "outputs": [],
     "prompt_number": 12
    },
    {
     "cell_type": "code",
     "collapsed": false,
     "input": [
      "instance Expr ExprT where\n",
      "    lit = Lit\n",
      "    add = Add\n",
      "    mul = Mul"
     ],
     "language": "python",
     "metadata": {},
     "outputs": [],
     "prompt_number": 13
    },
    {
     "cell_type": "code",
     "collapsed": false,
     "input": [
      "(mul (add (lit 2) (lit 3)) (lit 4) :: ExprT) == Mul (Add (Lit 2) (Lit 3)) (Lit 4)"
     ],
     "language": "python",
     "metadata": {},
     "outputs": [
      {
       "metadata": {},
       "output_type": "display_data",
       "text": [
        "True"
       ]
      }
     ],
     "prompt_number": 14
    },
    {
     "cell_type": "code",
     "collapsed": false,
     "input": [
      "reify :: ExprT -> ExprT\n",
      "reify = id\n",
      "\n",
      "reify $ mul (add (lit 2) (lit 3)) (lit 4)"
     ],
     "language": "python",
     "metadata": {},
     "outputs": [
      {
       "metadata": {},
       "output_type": "display_data",
       "text": [
        "Mul (Add (Lit 2) (Lit 3)) (Lit 4)"
       ]
      }
     ],
     "prompt_number": 15
    },
    {
     "cell_type": "code",
     "collapsed": false,
     "input": [
      "instance Expr Bool where\n",
      "    lit = (>0)\n",
      "    add = (||)\n",
      "    mul = (&&)"
     ],
     "language": "python",
     "metadata": {},
     "outputs": [],
     "prompt_number": 16
    },
    {
     "cell_type": "code",
     "collapsed": false,
     "input": [
      "mul (add (lit 2) (lit 3)) (lit 4) :: Bool"
     ],
     "language": "python",
     "metadata": {},
     "outputs": [
      {
       "metadata": {},
       "output_type": "display_data",
       "text": [
        "True"
       ]
      }
     ],
     "prompt_number": 17
    },
    {
     "cell_type": "code",
     "collapsed": false,
     "input": [
      "instance Expr Integer where\n",
      "    lit = id\n",
      "    add = (+)\n",
      "    mul = (*)"
     ],
     "language": "python",
     "metadata": {},
     "outputs": [],
     "prompt_number": 18
    },
    {
     "cell_type": "code",
     "collapsed": false,
     "input": [
      "mul (add (lit 2) (lit 3)) (lit 4) :: Integer"
     ],
     "language": "python",
     "metadata": {},
     "outputs": [
      {
       "metadata": {},
       "output_type": "display_data",
       "text": [
        "20"
       ]
      }
     ],
     "prompt_number": 19
    },
    {
     "cell_type": "code",
     "collapsed": false,
     "input": [
      "newtype MinMax = MinMax Integer deriving (Eq, Show)\n",
      "MinMax 7\n",
      "instance Expr MinMax where\n",
      "    lit = MinMax\n",
      "    add (MinMax x) (MinMax y) = MinMax (max x y)\n",
      "    mul (MinMax x) (MinMax y) = MinMax (min x y)"
     ],
     "language": "python",
     "metadata": {},
     "outputs": [
      {
       "metadata": {},
       "output_type": "display_data",
       "text": [
        "MinMax 7"
       ]
      }
     ],
     "prompt_number": 20
    },
    {
     "cell_type": "code",
     "collapsed": false,
     "input": [
      "newtype Mod7 = Mod7 Integer deriving (Eq, Show)\n",
      "instance Expr Mod7 where\n",
      "    lit = Mod7 . (`mod` 7)\n",
      "    add (Mod7 x) (Mod7 y) = lit(x + y)\n",
      "    mul (Mod7 x) (Mod7 y) = lit(x * y)"
     ],
     "language": "python",
     "metadata": {},
     "outputs": [],
     "prompt_number": 21
    },
    {
     "cell_type": "code",
     "collapsed": false,
     "input": [
      "testExp :: Expr a => Maybe a\n",
      "testExp = parseExp lit add mul \"(3 * -4) + 5\"\n",
      "testInteger = testExp :: Maybe Integer\n",
      "testBool = testExp :: Maybe Bool\n",
      "testMM = testExp :: Maybe MinMax\n",
      "testSat = testExp :: Maybe Mod7"
     ],
     "language": "python",
     "metadata": {},
     "outputs": [],
     "prompt_number": 22
    },
    {
     "cell_type": "code",
     "collapsed": false,
     "input": [
      "testInteger"
     ],
     "language": "python",
     "metadata": {},
     "outputs": [
      {
       "metadata": {},
       "output_type": "display_data",
       "text": [
        "Just (-7)"
       ]
      }
     ],
     "prompt_number": 23
    },
    {
     "cell_type": "code",
     "collapsed": false,
     "input": [
      "testMM"
     ],
     "language": "python",
     "metadata": {},
     "outputs": [
      {
       "metadata": {},
       "output_type": "display_data",
       "text": [
        "Just (MinMax 5)"
       ]
      }
     ],
     "prompt_number": 24
    },
    {
     "cell_type": "code",
     "collapsed": false,
     "input": [
      "testSat"
     ],
     "language": "python",
     "metadata": {},
     "outputs": [
      {
       "metadata": {},
       "output_type": "display_data",
       "text": [
        "Just (Mod7 0)"
       ]
      }
     ],
     "prompt_number": 25
    },
    {
     "cell_type": "code",
     "collapsed": false,
     "input": [
      ":load Parser"
     ],
     "language": "python",
     "metadata": {
      "hidden": false
     },
     "outputs": [],
     "prompt_number": 28
    },
    {
     "cell_type": "code",
     "collapsed": false,
     "input": [
      ":load StackVM"
     ],
     "language": "python",
     "metadata": {
      "hidden": false
     },
     "outputs": [],
     "prompt_number": 29
    },
    {
     "cell_type": "code",
     "collapsed": false,
     "input": [
      ":info StackExp"
     ],
     "language": "python",
     "metadata": {
      "hidden": false
     },
     "outputs": [
      {
       "metadata": {},
       "output_type": "display_data"
      }
     ],
     "prompt_number": 30
    },
    {
     "cell_type": "code",
     "collapsed": false,
     "input": [
      ":info Program"
     ],
     "language": "python",
     "metadata": {
      "hidden": false
     },
     "outputs": [
      {
       "metadata": {},
       "output_type": "display_data"
      }
     ],
     "prompt_number": 31
    },
    {
     "cell_type": "code",
     "collapsed": false,
     "input": [
      "{-# LANGUAGE TypeSynonymInstances #-}"
     ],
     "language": "python",
     "metadata": {
      "hidden": false
     },
     "outputs": [],
     "prompt_number": 32
    },
    {
     "cell_type": "code",
     "collapsed": false,
     "input": [],
     "language": "python",
     "metadata": {
      "hidden": false
     },
     "outputs": []
    }
   ],
   "metadata": {}
  }
 ]
}