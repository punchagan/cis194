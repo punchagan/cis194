{
 "metadata": {
  "language": "haskell",
  "name": "",
  "signature": "sha256:a3d4726d75c35b004dfdad94edaae1c5bf6c27a80946c6c8cddc2c1644d6bbc0"
 },
 "nbformat": 3,
 "nbformat_minor": 0,
 "worksheets": [
  {
   "cells": [
    {
     "cell_type": "code",
     "collapsed": false,
     "input": [
      "-- y :: Int\n",
      "-- y = y + 1"
     ],
     "language": "python",
     "metadata": {},
     "outputs": [],
     "prompt_number": 1
    },
    {
     "cell_type": "code",
     "collapsed": false,
     "input": [
      "biggestInt, smallestInt :: Int\n",
      "biggestInt = maxBound\n",
      "smallestInt = minBound\n",
      "\n",
      "biggestInt\n",
      "smallestInt"
     ],
     "language": "python",
     "metadata": {},
     "outputs": [
      {
       "metadata": {},
       "output_type": "display_data",
       "text": [
        "9223372036854775807"
       ]
      },
      {
       "metadata": {},
       "output_type": "display_data",
       "text": [
        "-9223372036854775808"
       ]
      }
     ],
     "prompt_number": 2
    },
    {
     "cell_type": "code",
     "collapsed": false,
     "input": [
      "ex01 = 3 + 2\n",
      "ex02 = 19 - 27\n",
      "ex03 = 2.35 * 8.6\n",
      "ex04 = 8.7 / 3.1\n",
      "ex05 = mod 19 3\n",
      "ex06 = 19 `mod` 3\n",
      "ex07 = 7 ^ 222\n",
      "ex08 = (-3) * (-7)"
     ],
     "language": "python",
     "metadata": {},
     "outputs": [],
     "prompt_number": 3
    },
    {
     "cell_type": "markdown",
     "metadata": {
      "hidden": false
     },
     "source": [
      "**Exercise 1:** We need to first find the digits of a number."
     ]
    },
    {
     "cell_type": "code",
     "collapsed": false,
     "input": [
      "toDigits :: Integer -> [Integer]\n",
      "toDigits n\n",
      "    | n <= 0 = []\n",
      "    | n < 10 = [n]\n",
      "    | otherwise = toDigits (n `div` 10) ++ [n `mod` 10]\n",
      "    \n",
      "toDigits (-23455)\n",
      "toDigits 123123"
     ],
     "language": "python",
     "metadata": {},
     "outputs": [
      {
       "metadata": {},
       "output_type": "display_data",
       "text": [
        "[]"
       ]
      },
      {
       "metadata": {},
       "output_type": "display_data",
       "text": [
        "[1,2,3,1,2,3]"
       ]
      }
     ],
     "prompt_number": 4
    },
    {
     "cell_type": "code",
     "collapsed": false,
     "input": [
      "toDigitsRev :: Integer -> [Integer]\n",
      "toDigitsRev n\n",
      "    | n <= 0 = []\n",
      "    | n < 10 = [n]\n",
      "    | otherwise = n `mod` 10 : toDigitsRev (n `div` 10)\n",
      "    \n",
      "toDigitsRev 123123"
     ],
     "language": "python",
     "metadata": {},
     "outputs": [
      {
       "metadata": {},
       "output_type": "display_data",
       "text": [
        "[3,2,1,3,2,1]"
       ]
      }
     ],
     "prompt_number": 5
    },
    {
     "cell_type": "markdown",
     "metadata": {
      "hidden": false
     },
     "source": [
      "**Exercise 2:** Once we have the digits in the proper order, we need to\n",
      "double every other one."
     ]
    },
    {
     "cell_type": "code",
     "collapsed": false,
     "input": [
      "doubleEveryOther :: [Integer] -> [Integer]\n",
      "doubleEveryOther [] = []\n",
      "doubleEveryOther [x] = [x]\n",
      "--doubleEveryOther (x:y:[]) = [x, 2*y]\n",
      "doubleEveryOther (x:y:xs) = [x, 2*y] ++ (doubleEveryOther xs)"
     ],
     "language": "python",
     "metadata": {},
     "outputs": [],
     "prompt_number": 6
    },
    {
     "cell_type": "code",
     "collapsed": false,
     "input": [
      "doubleEveryOther [1, 2, 3, 4]"
     ],
     "language": "python",
     "metadata": {},
     "outputs": [
      {
       "metadata": {},
       "output_type": "display_data",
       "text": [
        "[1,4,3,8]"
       ]
      }
     ],
     "prompt_number": 7
    },
    {
     "cell_type": "markdown",
     "metadata": {
      "hidden": false
     },
     "source": [
      "**Exercise 3** The output of doubleEveryOther has a mix of one-digit\n",
      "and two-digit numbers. Define the function\n",
      "`sumDigits :: [Integer] -> Integer`\n",
      "to calculate the sum of all digits.\n",
      "*Example*: `sumDigits [16,7,12,5] = 1 + 6 + 7 + 1 + 2 + 5 = 22`"
     ]
    },
    {
     "cell_type": "code",
     "collapsed": false,
     "input": [
      "sumDigits :: [Integer] -> Integer\n",
      "sumDigits [] = 0\n",
      "sumDigits (x:xs) = sum (toDigits x) + sumDigits xs"
     ],
     "language": "python",
     "metadata": {},
     "outputs": [],
     "prompt_number": 8
    },
    {
     "cell_type": "code",
     "collapsed": false,
     "input": [
      "sumDigits [1, 2, 24, 98]"
     ],
     "language": "python",
     "metadata": {},
     "outputs": [
      {
       "metadata": {},
       "output_type": "display_data",
       "text": [
        "26"
       ]
      }
     ],
     "prompt_number": 9
    },
    {
     "cell_type": "markdown",
     "metadata": {
      "hidden": false
     },
     "source": [
      "**Exercise 4** Define the function\n",
      "```\n",
      "validate :: Integer -> Bool\n",
      "```\n",
      "that indicates whether an Integer could be a valid credit card number. This will use all functions defined in the previous exercises.\n",
      "\n",
      "*Example*: `validate 4012888888881881 = True`\n",
      "\n",
      "*Example*: `validate 4012888888881882 = False`"
     ]
    },
    {
     "cell_type": "code",
     "collapsed": false,
     "input": [
      "validate :: Integer -> Bool\n",
      "validate x = sumDigits (doubleEveryOther (toDigitsRev x)) `mod` 10 == 0"
     ],
     "language": "python",
     "metadata": {},
     "outputs": [],
     "prompt_number": 10
    },
    {
     "cell_type": "code",
     "collapsed": false,
     "input": [
      "validate 4012888888881881"
     ],
     "language": "python",
     "metadata": {},
     "outputs": [
      {
       "metadata": {},
       "output_type": "display_data",
       "text": [
        "True"
       ]
      }
     ],
     "prompt_number": 11
    },
    {
     "cell_type": "code",
     "collapsed": false,
     "input": [
      "validate 4012888888881882"
     ],
     "language": "python",
     "metadata": {},
     "outputs": [
      {
       "metadata": {},
       "output_type": "display_data",
       "text": [
        "False"
       ]
      }
     ],
     "prompt_number": 12
    },
    {
     "cell_type": "code",
     "collapsed": false,
     "input": [
      "toDigitsRev 4012888888881881"
     ],
     "language": "python",
     "metadata": {},
     "outputs": [
      {
       "metadata": {},
       "output_type": "display_data",
       "text": [
        "[1,8,8,1,8,8,8,8,8,8,8,8,2,1,0,4]"
       ]
      }
     ],
     "prompt_number": 13
    },
    {
     "cell_type": "code",
     "collapsed": false,
     "input": [
      "doubleEveryOther . toDigitsRev $ 4012888888881881"
     ],
     "language": "python",
     "metadata": {},
     "outputs": [
      {
       "metadata": {},
       "output_type": "display_data",
       "text": [
        "[1,16,8,2,8,16,8,16,8,16,8,16,2,2,0,8]"
       ]
      }
     ],
     "prompt_number": 14
    },
    {
     "cell_type": "code",
     "collapsed": false,
     "input": [
      "sumDigits . doubleEveryOther . toDigitsRev $ 4012888888881881"
     ],
     "language": "python",
     "metadata": {},
     "outputs": [
      {
       "metadata": {},
       "output_type": "display_data",
       "text": [
        "90"
       ]
      }
     ],
     "prompt_number": 15
    },
    {
     "cell_type": "markdown",
     "metadata": {
      "hidden": false
     },
     "source": [
      "**Exercise 5** *The Towers of Hanoi*"
     ]
    },
    {
     "cell_type": "code",
     "collapsed": false,
     "input": [
      "type Peg = String\n",
      "type Move = (Peg, Peg)\n",
      "hanoi :: Integer -> Peg -> Peg -> Peg -> [Move]\n",
      "hanoi 1 a b c = [(a, b)]\n",
      "hanoi n a b c = (hanoi (n-1) a c b) ++ (hanoi 1 a b c) ++ (hanoi (n-1) c b a)\n",
      "\n",
      "hanoi 2 \"a\" \"b\" \"c\""
     ],
     "language": "python",
     "metadata": {},
     "outputs": [
      {
       "metadata": {},
       "output_type": "display_data",
       "text": [
        "[(\"a\",\"c\"),(\"a\",\"b\"),(\"c\",\"b\")]"
       ]
      }
     ],
     "prompt_number": 16
    }
   ],
   "metadata": {}
  }
 ]
}