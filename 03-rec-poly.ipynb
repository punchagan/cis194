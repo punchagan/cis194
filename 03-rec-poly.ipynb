{
 "metadata": {
  "language": "haskell",
  "name": "",
  "signature": "sha256:c2fc50aff1600bf4f29aaf7136b3abfb2db84b1ebfea19e036af07e9b36e4df4"
 },
 "nbformat": 3,
 "nbformat_minor": 0,
 "worksheets": [
  {
   "cells": [
    {
     "cell_type": "markdown",
     "metadata": {
      "hidden": false
     },
     "source": [
      "** Exercise 1**"
     ]
    },
    {
     "cell_type": "code",
     "collapsed": false,
     "input": [
      "getElements n xs \n",
      "    | n <= length xs = last (take n xs):getElements n (drop n xs)\n",
      "    | otherwise = []"
     ],
     "language": "python",
     "metadata": {
      "hidden": false
     },
     "outputs": [],
     "prompt_number": 1
    },
    {
     "cell_type": "code",
     "collapsed": false,
     "input": [
      "-- skips :: [a] -> [[a]]\n",
      "skips xs = map (`getElements` xs) [1..(length xs)]"
     ],
     "language": "python",
     "metadata": {
      "hidden": false
     },
     "outputs": [],
     "prompt_number": 2
    },
    {
     "cell_type": "code",
     "collapsed": false,
     "input": [
      "skips \"ABCD\""
     ],
     "language": "python",
     "metadata": {
      "hidden": false
     },
     "outputs": [
      {
       "metadata": {},
       "output_type": "display_data",
       "text": [
        "[\"ABCD\",\"BD\",\"C\",\"D\"]"
       ]
      }
     ],
     "prompt_number": 3
    },
    {
     "cell_type": "code",
     "collapsed": false,
     "input": [
      "skips \"ABCD\" == [\"ABCD\", \"BD\", \"C\", \"D\"]\n",
      "skips \"hello!\" == [\"hello!\", \"el!\", \"l!\", \"l\", \"o\", \"!\"]\n",
      "skips [1] == [[1]]\n",
      "skips [True,False] == [[True,False], [False]]"
     ],
     "language": "python",
     "metadata": {
      "hidden": false
     },
     "outputs": [
      {
       "metadata": {},
       "output_type": "display_data",
       "text": [
        "True"
       ]
      },
      {
       "metadata": {},
       "output_type": "display_data",
       "text": [
        "True"
       ]
      },
      {
       "metadata": {},
       "output_type": "display_data",
       "text": [
        "True"
       ]
      },
      {
       "metadata": {},
       "output_type": "display_data",
       "text": [
        "True"
       ]
      }
     ],
     "prompt_number": 6
    },
    {
     "cell_type": "markdown",
     "metadata": {
      "hidden": false
     },
     "source": [
      "** Exercise 2 **"
     ]
    },
    {
     "cell_type": "code",
     "collapsed": false,
     "input": [
      "localMaxima :: [Integer] -> [Integer]\n",
      "localMaxima (x:y:z:xs)\n",
      "    | y > z && y > x = y:localMaxima (y:z:xs)\n",
      "    | otherwise = localMaxima (y:z:xs)\n",
      "localMaxima _ = []"
     ],
     "language": "python",
     "metadata": {
      "hidden": false
     },
     "outputs": [],
     "prompt_number": 12
    },
    {
     "cell_type": "code",
     "collapsed": false,
     "input": [
      "localMaxima [2,9,5,6,1] == [9,6]\n",
      "localMaxima [2,3,4,1,5] == [4]\n",
      "localMaxima [1,2,3,4,5] == []"
     ],
     "language": "python",
     "metadata": {
      "hidden": false
     },
     "outputs": [
      {
       "html": [
        " <div class=\"suggestion-name\" style=\"clear:both;\">Use null</div>  <div class=\"suggestion-row\" style=\"float: left;\"> <div class=\"suggestion-warning\">Found:</div>  <div class=\"highlight-code\" id=\"haskell\">localMaxima [1, 2, 3, 4, 5] == []</div> </div>  <div class=\"suggestion-row\" style=\"float: left;\"> <div class=\"suggestion-warning\">Why Not:</div>  <div class=\"highlight-code\" id=\"haskell\">null (localMaxima [1, 2, 3, 4, 5])</div> </div> "
       ],
       "metadata": {},
       "output_type": "display_data",
       "text": [
        "Line 1: Use null\n",
        "Found:\n",
        "localMaxima [1, 2, 3, 4, 5] == []\n",
        "Why not:\n",
        "null (localMaxima [1, 2, 3, 4, 5])"
       ]
      },
      {
       "metadata": {},
       "output_type": "display_data",
       "text": [
        "True"
       ]
      },
      {
       "metadata": {},
       "output_type": "display_data",
       "text": [
        "True"
       ]
      },
      {
       "metadata": {},
       "output_type": "display_data",
       "text": [
        "True"
       ]
      }
     ],
     "prompt_number": 14
    },
    {
     "cell_type": "markdown",
     "metadata": {
      "hidden": false
     },
     "source": [
      "** Exercise 3 **"
     ]
    },
    {
     "cell_type": "code",
     "collapsed": false,
     "input": [
      "-- histogram :: [Integer] -> String\n",
      "histogram = show . frequency1"
     ],
     "language": "python",
     "metadata": {
      "hidden": false
     },
     "outputs": [],
     "prompt_number": 63
    },
    {
     "cell_type": "code",
     "collapsed": false,
     "input": [
      "import Data.List"
     ],
     "language": "python",
     "metadata": {
      "hidden": false
     },
     "outputs": [],
     "prompt_number": 47
    },
    {
     "cell_type": "code",
     "collapsed": false,
     "input": [
      "frequency = map (\\ x -> (head x, length x)) . group . sort"
     ],
     "language": "python",
     "metadata": {
      "hidden": false
     },
     "outputs": [
      {
       "html": [
        " <div class=\"suggestion-name\" style=\"clear:both;\">Use &&&</div>  <div class=\"suggestion-row\" style=\"float: left;\"> <div class=\"suggestion-warning\">Found:</div>  <div class=\"highlight-code\" id=\"haskell\">\\ x -> (head x, length x)</div> </div>  <div class=\"suggestion-row\" style=\"float: left;\"> <div class=\"suggestion-warning\">Why Not:</div>  <div class=\"highlight-code\" id=\"haskell\">head Control.Arrow.&&& length</div> </div> "
       ],
       "metadata": {},
       "output_type": "display_data",
       "text": [
        "Line 1: Use &&&\n",
        "Found:\n",
        "\\ x -> (head x, length x)\n",
        "Why not:\n",
        "head Control.Arrow.&&& length"
       ]
      }
     ],
     "prompt_number": 28
    },
    {
     "cell_type": "code",
     "collapsed": false,
     "input": [
      "zip [0..9] (map (`lookup` frequency [1,2,3,3,1,2,3,1,3,4,5,1,2,3,2,0]) [0..9])"
     ],
     "language": "python",
     "metadata": {
      "hidden": false
     },
     "outputs": [
      {
       "metadata": {},
       "output_type": "display_data",
       "text": [
        "[(0,Just 1),(1,Just 4),(2,Just 4),(3,Just 5),(4,Just 1),(5,Just 1),(6,Nothing),(7,Nothing),(8,Nothing),(9,Nothing)]"
       ]
      }
     ],
     "prompt_number": 46
    },
    {
     "cell_type": "code",
     "collapsed": false,
     "input": [
      "length (elemIndices 2 [1,2,3,3,1,2,3,1,3,4,5,1,2,3,2,0])"
     ],
     "language": "python",
     "metadata": {
      "hidden": false
     },
     "outputs": [
      {
       "metadata": {},
       "output_type": "display_data",
       "text": [
        "4"
       ]
      }
     ],
     "prompt_number": 84
    },
    {
     "cell_type": "code",
     "collapsed": false,
     "input": [
      "frequency1 xs = map (\\ x -> length(elemIndices x xs)) [0..9]"
     ],
     "language": "python",
     "metadata": {
      "hidden": false
     },
     "outputs": [],
     "prompt_number": 85
    },
    {
     "cell_type": "code",
     "collapsed": false,
     "input": [
      "frequency1 [1,2,3,3,1,2,3,1,3,4,5,1,2,3,2,0]"
     ],
     "language": "python",
     "metadata": {
      "hidden": false
     },
     "outputs": [
      {
       "metadata": {},
       "output_type": "display_data",
       "text": [
        "[1,4,4,5,1,1,0,0,0,0]"
       ]
      }
     ],
     "prompt_number": 86
    },
    {
     "cell_type": "code",
     "collapsed": false,
     "input": [
      "putStr (histogram [3, 5])"
     ],
     "language": "python",
     "metadata": {
      "hidden": false
     },
     "outputs": [
      {
       "metadata": {},
       "output_type": "display_data",
       "text": [
        "[(0,0),(1,0),(2,0),(3,1),(4,0),(5,1),(6,0),(7,0),(8,0),(9,0)]"
       ]
      }
     ],
     "prompt_number": 87
    },
    {
     "cell_type": "code",
     "collapsed": false,
     "input": [
      "getStarLine 0 = (`take` repeat '=') . length\n",
      "getStarLine (-1) = const ['0'..'9']\n",
      "getStarLine n = map (\\ x -> if x >= n then '*' else ' ')"
     ],
     "language": "python",
     "metadata": {
      "hidden": false
     },
     "outputs": [],
     "prompt_number": 159
    },
    {
     "cell_type": "code",
     "collapsed": false,
     "input": [
      "histogram xs = intercalate \"\\n\" (map (`getStarLine` freqs) [(maximum freqs), maximum freqs-1..(-1)])\n",
      "    where freqs = frequency1 xs"
     ],
     "language": "python",
     "metadata": {
      "hidden": false
     },
     "outputs": [],
     "prompt_number": 167
    },
    {
     "cell_type": "code",
     "collapsed": false,
     "input": [
      "putStr $ histogram [1,2,3,3,1,2,3,1,3,4,5,1,2,3,2,0]"
     ],
     "language": "python",
     "metadata": {
      "hidden": false
     },
     "outputs": [
      {
       "metadata": {},
       "output_type": "display_data",
       "text": [
        "   *      \n",
        " ***      \n",
        " ***      \n",
        " ***      \n",
        "******    \n",
        "==========\n",
        "0123456789"
       ]
      }
     ],
     "prompt_number": 170
    }
   ],
   "metadata": {}
  }
 ]
}